{
 "cells": [
  {
   "cell_type": "markdown",
   "metadata": {},
   "source": [
    "# Ordinary Least Squares: Univariate and Multivariate\n",
    "\n",
    "## Overview \n",
    "\n",
    "This notebook accompanies the first part of the course on linear modelling: linear regression. There are often two approaches to OLS. In the more 'traditional' setting, such as statistics or economics, courses will tend to focus on the understanding in depth things such as residual analysis, ANOVA, nested model etc. In the more machine learning/AI setting, courses tend to focus more on the...\n",
    "\n",
    "This module will attempt to strike a balance between the two. I think it can be difficult to make the case for linear models in the context of machine learning. What with gradient boosters and non-linear models being so powerful, there are probably not many cases where a simple linear model would 'outperform' a more SOTA method. However, I believe there is a very strong case for having a deep understanding of linear models:\n",
    "\n",
    "- Following in the footsteps of Giants: every major breakthrough in AI or ML will have been discovered by someone who has taken courses in linear modelling. \n",
    "- Lots of SOTA concepts and analysis methods take ideas from linear models. Linear models can be understood geometrically very well, and so they provide an excellent framework for understanding key concepts for ML\n",
    "- In the 'real world', model 'power' is not neceserily the be all and end all. Often, a predictive model will feed into some other business analytics, often to be interpreted by a non-technical user. In such a case, I would rather explain a clear, linearly additive model with a 80% accuracy over a nonlinear gradient booster with a 95% accuracy any day! Linear models are highly interpritable, and this advantage should never be underestimated.\n",
    "\n",
    "This notebook will contain plenty of maths, and plenty of data. To get an deep understanding in an area of machine learning, it is, despite some opinions, important to go through the maths and derive things from scratch. Don't get me wrong, having good mechanical calculus or algebra skills does not define a good machine learning engineer. However, being able to follow derivations, and see how/where certain results come from will aid in solidifying this understanding. \n",
    "\n",
    "As an example, imagine that you have built a linear model, and are presenting results to a non-technical team. It turns out that the data is quite highly correlated, and a member of the team brings up this issue. They ask what impact this may have on the model interpritability. If we assume that you have only a conceptual understanding of OLS regression, then you may be able to respond that correlated inputs makes it difficult to see where the predicting power if coming from. This is not untrue, but as you do know exactly why this is the case, it can be difficult to defend decisions, especially to a non-technical audience. If, however, you have worked through this notebook, you will have seen how the idea of orthonormal matrices and Gram-Schmidt gives a clear explanation as to why correlated features can be an issue. This is not something that you wiukd explain to a non-technical audience, but by having this understanding yourself, you will have full confidence in what you are saying, and will be able to defend decisions.\n",
    "\n",
    "Saying that, it is also etremely important to get hands on with real examples. Notebooks such as this are great for this. We can build toy datasets that are easy to visualise, and allow us to work through algorithms step by step. This will help solidify the mathematical concepts.\n",
    "\n",
    "\n",
    "\n",
    "## Contents\n",
    "1. Least squares regression: a graphical intuition first approach\n",
    "2. Deriving the least squares estimates: yes, there will be calculus\n",
    "3. Analysing the parameters: \n",
    "4. Gauss-Markov theorem\n",
    "5. Why is correlated data bad? Least sqaures from the perspective of Gram-Schmidt\n",
    "6. Improving the linear model: what happens when variables get too big for their boots\n",
    "7. Current research in linear models: it's not all about neural networks"
   ]
  },
  {
   "cell_type": "code",
   "execution_count": 3,
   "metadata": {},
   "outputs": [
    {
     "name": "stdout",
     "output_type": "stream",
     "text": [
      "The nb_black extension is already loaded. To reload it, use:\n",
      "  %reload_ext nb_black\n"
     ]
    },
    {
     "data": {
      "application/javascript": [
       "\n",
       "            setTimeout(function() {\n",
       "                var nbb_cell_id = 3;\n",
       "                var nbb_unformatted_code = \"import numpy as np\\nfrom sklearn.datasets import make_regression\\nimport matplotlib.pyplot as plt\\n\\n%load_ext nb_black\";\n",
       "                var nbb_formatted_code = \"import numpy as np\\nfrom sklearn.datasets import make_regression\\nimport matplotlib.pyplot as plt\\n\\n%load_ext nb_black\";\n",
       "                var nbb_cells = Jupyter.notebook.get_cells();\n",
       "                for (var i = 0; i < nbb_cells.length; ++i) {\n",
       "                    if (nbb_cells[i].input_prompt_number == nbb_cell_id) {\n",
       "                        if (nbb_cells[i].get_text() == nbb_unformatted_code) {\n",
       "                             nbb_cells[i].set_text(nbb_formatted_code);\n",
       "                        }\n",
       "                        break;\n",
       "                    }\n",
       "                }\n",
       "            }, 500);\n",
       "            "
      ],
      "text/plain": [
       "<IPython.core.display.Javascript object>"
      ]
     },
     "metadata": {},
     "output_type": "display_data"
    }
   ],
   "source": [
    "import numpy as np\n",
    "from sklearn.datasets import make_regression\n",
    "import matplotlib.pyplot as plt\n",
    "\n",
    "%load_ext nb_black"
   ]
  },
  {
   "cell_type": "markdown",
   "metadata": {},
   "source": [
    "# Problem overview\n",
    "\n",
    "It's always a good idea to start with the problem we are trying to solve, and work out an intuitive geometric approach. In the case of a regression problem, what are we trying to achieve?:\n",
    "\n",
    " - Given some input data, $X$, how can we predict some output data, $y$?\n",
    " \n",
    "Let's take the simple univariate case; we are given an input explanatory vector, $x$, and trying to predict an output vector, $y$."
   ]
  },
  {
   "cell_type": "code",
   "execution_count": 4,
   "metadata": {},
   "outputs": [
    {
     "data": {
      "text/plain": [
       "Text(0.5, 1.0, 'Example regression problem: given an input x, how can we predict an output y?')"
      ]
     },
     "execution_count": 4,
     "metadata": {},
     "output_type": "execute_result"
    },
    {
     "data": {
      "image/png": "[encoded data removed]",
      "text/plain": [
       "<Figure size 432x288 with 1 Axes>"
      ]
     },
     "metadata": {
      "needs_background": "light"
     },
     "output_type": "display_data"
    },
    {
     "data": {
      "application/javascript": [
       "\n",
       "            setTimeout(function() {\n",
       "                var nbb_cell_id = 4;\n",
       "                var nbb_unformatted_code = \"# make dummy data\\nX, y = make_regression(n_features=1, noise=20, random_state=10)\\nplt.scatter(X, y)\\nplt.xlabel(\\\"Explanatory vector\\\")\\nplt.ylabel(\\\"Respone variable\\\")\\nplt.title(\\n    \\\"Example regression problem: given an input x, how can we predict an output y?\\\"\\n)\";\n",
       "                var nbb_formatted_code = \"# make dummy data\\nX, y = make_regression(n_features=1, noise=20, random_state=10)\\nplt.scatter(X, y)\\nplt.xlabel(\\\"Explanatory vector\\\")\\nplt.ylabel(\\\"Respone variable\\\")\\nplt.title(\\n    \\\"Example regression problem: given an input x, how can we predict an output y?\\\"\\n)\";\n",
       "                var nbb_cells = Jupyter.notebook.get_cells();\n",
       "                for (var i = 0; i < nbb_cells.length; ++i) {\n",
       "                    if (nbb_cells[i].input_prompt_number == nbb_cell_id) {\n",
       "                        if (nbb_cells[i].get_text() == nbb_unformatted_code) {\n",
       "                             nbb_cells[i].set_text(nbb_formatted_code);\n",
       "                        }\n",
       "                        break;\n",
       "                    }\n",
       "                }\n",
       "            }, 500);\n",
       "            "
      ],
      "text/plain": [
       "<IPython.core.display.Javascript object>"
      ]
     },
     "metadata": {},
     "output_type": "display_data"
    }
   ],
   "source": [
    "# make dummy data\n",
    "X, y = make_regression(n_features=1, noise=20, random_state=10)\n",
    "plt.scatter(X, y)\n",
    "plt.xlabel(\"Explanatory vector\")\n",
    "plt.ylabel(\"Respone variable\")\n",
    "plt.title(\n",
    "    \"Example regression problem: given an input x, how can we predict an output y?\"\n",
    ")"
   ]
  },
  {
   "cell_type": "markdown",
   "metadata": {},
   "source": [
    "Without any knowledge of statistics, how may we approach this? If we had a new input, $x=1$, what's a reasonable value that we may assign $y$? How about $x=2$, or $x=-1$? What are the most likely value of $y$ for these inputs?\n",
    "\n",
    "Hopefully you can see that in order to get a reasonable estimate across any value of $x$, it makes sense to try and draw a straight line through the data. When we get a new input $x$, we can find that value on the $x$ axis, and the use the corresponding $y$ value found along the line.\n",
    "\n",
    "In other words, our model here is a straight line, or a linear model. What is the formula for a straight line?\n",
    "$ y = mx + b$. So the goal here, then, is to find such a line that best 'fits' the data. In the model $y = mx + b$, what are the adjustable parameters to change the line? If we ignore the bias term $b$ for the moment (we can center out data around the origin), how might we draw a line?"
   ]
  },
  {
   "cell_type": "code",
   "execution_count": 5,
   "metadata": {},
   "outputs": [
    {
     "data": {
      "text/plain": [
       "Text(0.5, 1.0, 'Example linear model')"
      ]
     },
     "execution_count": 5,
     "metadata": {},
     "output_type": "execute_result"
    },
    {
     "data": {
      "image/png": "[encoded data removed]",
      "text/plain": [
       "<Figure size 432x288 with 1 Axes>"
      ]
     },
     "metadata": {
      "needs_background": "light"
     },
     "output_type": "display_data"
    },
    {
     "data": {
      "application/javascript": [
       "\n",
       "            setTimeout(function() {\n",
       "                var nbb_cell_id = 5;\n",
       "                var nbb_unformatted_code = \"X = (X - np.mean(X)) / np.std(X)\\n\\nb = 0  # data is centered at zero\\nx_model = np.linspace(X.min(), X.max())\\n\\nm = 10  # play around with this value\\ny_model = m * x_model + b\\n\\n\\nplt.plot(x_model, y_model, color=\\\"red\\\")\\nplt.scatter(X, y)\\nplt.xlabel(\\\"Explanatory vector\\\")\\nplt.ylabel(\\\"Response variable\\\")\\nplt.title(\\\"Example linear model\\\")\";\n",
       "                var nbb_formatted_code = \"X = (X - np.mean(X)) / np.std(X)\\n\\nb = 0  # data is centered at zero\\nx_model = np.linspace(X.min(), X.max())\\n\\nm = 10  # play around with this value\\ny_model = m * x_model + b\\n\\n\\nplt.plot(x_model, y_model, color=\\\"red\\\")\\nplt.scatter(X, y)\\nplt.xlabel(\\\"Explanatory vector\\\")\\nplt.ylabel(\\\"Response variable\\\")\\nplt.title(\\\"Example linear model\\\")\";\n",
       "                var nbb_cells = Jupyter.notebook.get_cells();\n",
       "                for (var i = 0; i < nbb_cells.length; ++i) {\n",
       "                    if (nbb_cells[i].input_prompt_number == nbb_cell_id) {\n",
       "                        if (nbb_cells[i].get_text() == nbb_unformatted_code) {\n",
       "                             nbb_cells[i].set_text(nbb_formatted_code);\n",
       "                        }\n",
       "                        break;\n",
       "                    }\n",
       "                }\n",
       "            }, 500);\n",
       "            "
      ],
      "text/plain": [
       "<IPython.core.display.Javascript object>"
      ]
     },
     "metadata": {},
     "output_type": "display_data"
    }
   ],
   "source": [
    "X = (X - np.mean(X)) / np.std(X)\n",
    "\n",
    "b = 0  # data is centered at zero\n",
    "x_model = np.linspace(X.min(), X.max())\n",
    "\n",
    "m = 10  # play around with this value\n",
    "y_model = m * x_model + b\n",
    "\n",
    "\n",
    "plt.plot(x_model, y_model, color=\"red\")\n",
    "plt.scatter(X, y)\n",
    "plt.xlabel(\"Explanatory vector\")\n",
    "plt.ylabel(\"Response variable\")\n",
    "plt.title(\"Example linear model\")"
   ]
  },
  {
   "cell_type": "markdown",
   "metadata": {},
   "source": [
    "How might we find the 'best' model (straigh line)? How do we define 'best'? In our test data (X,y), when we fit a particular straight line, it won't ever fit the data perfectly. In other words, we won't ever be able to find a straight line that gives the true value for $y$ for every value of $x$. There will be an error for each prediction.\n",
    "\n",
    "For example, if we fit a model (straigh line) to our data, and get a prediction of $\\hat{y} = 25$ for $x=0$, but the actual value from our data os $y = 30$, we can say there is an absolute error of $y - \\hat{y}$ or $30-25=5$. Normally we use a squared error, and so the error becomes $ (y - \\hat{y})^2 = 25$.\n",
    "\n",
    "This is good news! For any particular prediction from our model, we can get a measure of how good that particular prediction is. How can we use this to find the best model, or best fit for a straigh line? Well, we can calculate the total error for that model (by summing up the individual errors). We can then try different models (values for the slope) and choose the model with the lowest error. \n",
    "\n",
    "Great! But clearly trying random models won't cut it. Now we have our objective (minimise the total squared error), how can we find the model that gives the minimum error? That's right, we can take the derivative of the error function with respect to the model parameters, which are in this case, the slope. \n",
    "\n",
    "Hopefully this has given an intuitive overview of how we migth approach this problem from a geometric approach. In the univariate case (one input x, and one model parameter) we can easily plot the results; in most cases, we will have multiple input variables. Luckily, the same approach can be taken in the multivariate case, with just a few tweaks. \n",
    "\n",
    "We can now look at a more formal derivation of how to dolve the least squares problem"
   ]
  },
  {
   "cell_type": "code",
   "execution_count": 6,
   "metadata": {},
   "outputs": [
    {
     "data": {
      "text/plain": [
       "array([30.31179391])"
      ]
     },
     "execution_count": 6,
     "metadata": {},
     "output_type": "execute_result"
    },
    {
     "data": {
      "application/javascript": [
       "\n",
       "            setTimeout(function() {\n",
       "                var nbb_cell_id = 6;\n",
       "                var nbb_unformatted_code = \"# least square estimates\\nbeta_hat = np.dot(np.linalg.inv(np.dot(X.T, X)), np.dot(X.T, y))\\nbeta_hat\";\n",
       "                var nbb_formatted_code = \"# least square estimates\\nbeta_hat = np.dot(np.linalg.inv(np.dot(X.T, X)), np.dot(X.T, y))\\nbeta_hat\";\n",
       "                var nbb_cells = Jupyter.notebook.get_cells();\n",
       "                for (var i = 0; i < nbb_cells.length; ++i) {\n",
       "                    if (nbb_cells[i].input_prompt_number == nbb_cell_id) {\n",
       "                        if (nbb_cells[i].get_text() == nbb_unformatted_code) {\n",
       "                             nbb_cells[i].set_text(nbb_formatted_code);\n",
       "                        }\n",
       "                        break;\n",
       "                    }\n",
       "                }\n",
       "            }, 500);\n",
       "            "
      ],
      "text/plain": [
       "<IPython.core.display.Javascript object>"
      ]
     },
     "metadata": {},
     "output_type": "display_data"
    }
   ],
   "source": [
    "# least square estimates\n",
    "beta_hat = np.dot(np.linalg.inv(np.dot(X.T, X)), np.dot(X.T, y))\n",
    "beta_hat"
   ]
  },
  {
   "cell_type": "code",
   "execution_count": 7,
   "metadata": {},
   "outputs": [
    {
     "data": {
      "text/plain": [
       "Text(0.5, 1.0, 'Least squares estimate model fit')"
      ]
     },
     "execution_count": 7,
     "metadata": {},
     "output_type": "execute_result"
    },
    {
     "data": {
      "image/png": "[encoded data removed]",
      "text/plain": [
       "<Figure size 432x288 with 1 Axes>"
      ]
     },
     "metadata": {
      "needs_background": "light"
     },
     "output_type": "display_data"
    },
    {
     "data": {
      "application/javascript": [
       "\n",
       "            setTimeout(function() {\n",
       "                var nbb_cell_id = 7;\n",
       "                var nbb_unformatted_code = \"plt.scatter(X, y)\\nplt.plot(\\n    X, np.dot(beta_hat, X.T), color=\\\"red\\\", label=\\\"Linear model with smallest error\\\"\\n)\\nplt.xlabel(\\\"Explanatoru variable: x1\\\")\\nplt.ylabel(\\\"Response variable: y\\\")\\nplt.legend()\\nplt.title(\\\"Least squares estimate model fit\\\")\";\n",
       "                var nbb_formatted_code = \"plt.scatter(X, y)\\nplt.plot(\\n    X, np.dot(beta_hat, X.T), color=\\\"red\\\", label=\\\"Linear model with smallest error\\\"\\n)\\nplt.xlabel(\\\"Explanatoru variable: x1\\\")\\nplt.ylabel(\\\"Response variable: y\\\")\\nplt.legend()\\nplt.title(\\\"Least squares estimate model fit\\\")\";\n",
       "                var nbb_cells = Jupyter.notebook.get_cells();\n",
       "                for (var i = 0; i < nbb_cells.length; ++i) {\n",
       "                    if (nbb_cells[i].input_prompt_number == nbb_cell_id) {\n",
       "                        if (nbb_cells[i].get_text() == nbb_unformatted_code) {\n",
       "                             nbb_cells[i].set_text(nbb_formatted_code);\n",
       "                        }\n",
       "                        break;\n",
       "                    }\n",
       "                }\n",
       "            }, 500);\n",
       "            "
      ],
      "text/plain": [
       "<IPython.core.display.Javascript object>"
      ]
     },
     "metadata": {},
     "output_type": "display_data"
    }
   ],
   "source": [
    "plt.scatter(X, y)\n",
    "plt.plot(\n",
    "    X, np.dot(beta_hat, X.T), color=\"red\", label=\"Linear model with smallest error\"\n",
    ")\n",
    "plt.xlabel(\"Explanatoru variable: x1\")\n",
    "plt.ylabel(\"Response variable: y\")\n",
    "plt.legend()\n",
    "plt.title(\"Least squares estimate model fit\")"
   ]
  },
  {
   "cell_type": "markdown",
   "metadata": {},
   "source": []
  },
  {
   "cell_type": "code",
   "execution_count": null,
   "metadata": {},
   "outputs": [],
   "source": []
  },
  {
   "cell_type": "code",
   "execution_count": null,
   "metadata": {},
   "outputs": [],
   "source": []
  },
  {
   "cell_type": "markdown",
   "metadata": {},
   "source": [
    "\\begin{equation*}\n",
    "    \\begin{split}\n",
    "        \\frac{\\partial RSS}{\\partial \\beta}error& = \\frac{\\partial RSS}{\\partial \\beta}(y-\\beta \\textbf{X})^T(y-\\beta \\textbf{X}) \\\\\n",
    "        & = \\frac{\\partial RSS}{\\partial \\beta}(y^Ty - 2\\beta^T\\textbf{X}^Ty + \\beta^T\\textbf{X}^T\\textbf{X}\\beta) \\\\\n",
    "        & = -2\\textbf{X}^Ty + 2\\textbf{X}^T\\textbf{X}\\beta = 0\n",
    "    \\end{split}\n",
    "\\end{equation*}\n",
    "\n",
    "\\begin{equation*}   \n",
    "    \\begin{split}\n",
    "        \\textbf{X}^T\\textbf{X}\\beta = \\textbf{X} ^Ty \\\\\n",
    "        \\implies \\beta = (\\textbf{X}^T\\textbf{X})^{-1}\\textbf{X}^Ty\n",
    "    \\end{split}\n",
    "\\end{equation*}\n",
    "\n",
    "\\begin{equation*}\n",
    "    \\begin{split}\n",
    "        \\hat{y} = \\textbf{X}\\hat{\\beta} = \\textbf{X}(\\textbf{X}^T\\textbf{X})^{-1}\\textbf{X}^Ty \\\\\n",
    "        = \\textbf{H}y\n",
    "    \\end{split}\n",
    "\\end{equation*}"
   ]
  },
  {
   "cell_type": "code",
   "execution_count": 12,
   "metadata": {},
   "outputs": [
    {
     "data": {
      "image/png": "[encoded data removed]",
      "text/plain": [
       "<Figure size 432x288 with 1 Axes>"
      ]
     },
     "metadata": {
      "needs_background": "light"
     },
     "output_type": "display_data"
    },
    {
     "data": {
      "application/javascript": [
       "\n",
       "            setTimeout(function() {\n",
       "                var nbb_cell_id = 12;\n",
       "                var nbb_unformatted_code = \"# For the sake of further analysis, we will now use a 2 dimensional dataset.\\nX, y = make_regression(n_features=2, noise=20, random_state=10)\\n\\nfrom mpl_toolkits.mplot3d import Axes3D\\nfig = plt.figure()\\nax = Axes3D(fig)\\n\\nax.scatter(X[:, 0], X[:, 1], y)\\nplt.show()\";\n",
       "                var nbb_formatted_code = \"# For the sake of further analysis, we will now use a 2 dimensional dataset.\\nX, y = make_regression(n_features=2, noise=20, random_state=10)\\n\\nfrom mpl_toolkits.mplot3d import Axes3D\\n\\nfig = plt.figure()\\nax = Axes3D(fig)\\n\\nax.scatter(X[:, 0], X[:, 1], y)\\nplt.show()\";\n",
       "                var nbb_cells = Jupyter.notebook.get_cells();\n",
       "                for (var i = 0; i < nbb_cells.length; ++i) {\n",
       "                    if (nbb_cells[i].input_prompt_number == nbb_cell_id) {\n",
       "                        if (nbb_cells[i].get_text() == nbb_unformatted_code) {\n",
       "                             nbb_cells[i].set_text(nbb_formatted_code);\n",
       "                        }\n",
       "                        break;\n",
       "                    }\n",
       "                }\n",
       "            }, 500);\n",
       "            "
      ],
      "text/plain": [
       "<IPython.core.display.Javascript object>"
      ]
     },
     "metadata": {},
     "output_type": "display_data"
    }
   ],
   "source": [
    "# For the sake of further analysis, we will now use a 2 dimensional dataset.\n",
    "X, y = make_regression(n_features=2, noise=20, random_state=10)\n",
    "\n",
    "from mpl_toolkits.mplot3d import Axes3D\n",
    "\n",
    "fig = plt.figure()\n",
    "ax = Axes3D(fig)\n",
    "\n",
    "ax.scatter(X[:, 0], X[:, 1], y)\n",
    "plt.show()"
   ]
  },
  {
   "cell_type": "code",
   "execution_count": null,
   "metadata": {},
   "outputs": [],
   "source": []
  },
  {
   "cell_type": "code",
   "execution_count": 27,
   "metadata": {},
   "outputs": [
    {
     "data": {
      "application/javascript": [
       "\n",
       "            setTimeout(function() {\n",
       "                var nbb_cell_id = 27;\n",
       "                var nbb_unformatted_code = \"class OLS:\\n    def __init__(self, lambda_=0):\\n        self.lambda_ = (\\n            lambda_  # this will be explained later when we talk about ridge regression\\n        )\\n        self.is_fitted = False\\n\\n    def fit(self, X, y):\\n        self.X = X\\n        self.y = y\\n        X = np.concatenate((np.ones((X.shape[0], 1)), X), axis=1)\\n        self.weights = np.dot(\\n            np.linalg.inv(np.dot(X.T, X) + (self.lambda_ * np.eye(X.shape[1]))),\\n            np.dot(X.T, y),\\n        )\\n        self.is_fitted = True\\n\\n    def predict(self, X):\\n        assert self.is_fitted\\n        X = np.concatenate((np.ones((X.shape[0], 1)), X), axis=1)\\n        return np.dot(self.weights, X.T)\\n\\n    def plot_line(self):\\n        assert self.is_fitted\\n        assert self.X.shape[1] == 1\\n        pred = self.predict(self.X)\\n        plt.scatter(self.X, self.y)\\n        plt.plot(self.X, pred, color=\\\"red\\\")\\n\\n    def train_error(self):\\n        error = sum((self.predict(self.X) - self.y) ** 2)\\n        return error\\n\\n    def sample_betas(self):\\n        assert self.is_fitted\\n        var = (1 / self.X.shape[0] - self.X.shape[1] - 1) * sum(\\n            self.predict(self.X) - self.y\\n        ) ** 2\\n\\n        return np.random.normal(self.weights, np.linalg.inv(np.dot(self.X.T, self.X)))\\n\\n\\nmodel = OLS(lambda_=10)\\nmodel.fit(X, y)\";\n",
       "                var nbb_formatted_code = \"class OLS:\\n    def __init__(self, lambda_=0):\\n        self.lambda_ = (\\n            lambda_  # this will be explained later when we talk about ridge regression\\n        )\\n        self.is_fitted = False\\n\\n    def fit(self, X, y):\\n        self.X = X\\n        self.y = y\\n        X = np.concatenate((np.ones((X.shape[0], 1)), X), axis=1)\\n        self.weights = np.dot(\\n            np.linalg.inv(np.dot(X.T, X) + (self.lambda_ * np.eye(X.shape[1]))),\\n            np.dot(X.T, y),\\n        )\\n        self.is_fitted = True\\n\\n    def predict(self, X):\\n        assert self.is_fitted\\n        X = np.concatenate((np.ones((X.shape[0], 1)), X), axis=1)\\n        return np.dot(self.weights, X.T)\\n\\n    def plot_line(self):\\n        assert self.is_fitted\\n        assert self.X.shape[1] == 1\\n        pred = self.predict(self.X)\\n        plt.scatter(self.X, self.y)\\n        plt.plot(self.X, pred, color=\\\"red\\\")\\n\\n    def train_error(self):\\n        error = sum((self.predict(self.X) - self.y) ** 2)\\n        return error\\n\\n    def sample_betas(self):\\n        assert self.is_fitted\\n        var = (1 / self.X.shape[0] - self.X.shape[1] - 1) * sum(\\n            self.predict(self.X) - self.y\\n        ) ** 2\\n\\n        return np.random.normal(self.weights, np.linalg.inv(np.dot(self.X.T, self.X)))\\n\\n\\nmodel = OLS(lambda_=10)\\nmodel.fit(X, y)\";\n",
       "                var nbb_cells = Jupyter.notebook.get_cells();\n",
       "                for (var i = 0; i < nbb_cells.length; ++i) {\n",
       "                    if (nbb_cells[i].input_prompt_number == nbb_cell_id) {\n",
       "                        if (nbb_cells[i].get_text() == nbb_unformatted_code) {\n",
       "                             nbb_cells[i].set_text(nbb_formatted_code);\n",
       "                        }\n",
       "                        break;\n",
       "                    }\n",
       "                }\n",
       "            }, 500);\n",
       "            "
      ],
      "text/plain": [
       "<IPython.core.display.Javascript object>"
      ]
     },
     "metadata": {},
     "output_type": "display_data"
    }
   ],
   "source": [
    "class OLS:\n",
    "    def __init__(self, lambda_=0):\n",
    "        self.lambda_ = (\n",
    "            lambda_  # this will be explained later when we talk about ridge regression\n",
    "        )\n",
    "        self.is_fitted = False\n",
    "\n",
    "    def fit(self, X, y):\n",
    "        self.X = X\n",
    "        self.y = y\n",
    "        X = np.concatenate((np.ones((X.shape[0], 1)), X), axis=1)\n",
    "        self.weights = np.dot(\n",
    "            np.linalg.inv(np.dot(X.T, X) + (self.lambda_ * np.eye(X.shape[1]))),\n",
    "            np.dot(X.T, y),\n",
    "        )\n",
    "        self.is_fitted = True\n",
    "\n",
    "    def predict(self, X):\n",
    "        assert self.is_fitted\n",
    "        X = np.concatenate((np.ones((X.shape[0], 1)), X), axis=1)\n",
    "        return np.dot(self.weights, X.T)\n",
    "\n",
    "    def plot_line(self):\n",
    "        assert self.is_fitted\n",
    "        assert self.X.shape[1] == 1\n",
    "        pred = self.predict(self.X)\n",
    "        plt.scatter(self.X, self.y)\n",
    "        plt.plot(self.X, pred, color=\"red\")\n",
    "\n",
    "    def train_error(self):\n",
    "        error = sum((self.predict(self.X) - self.y) ** 2)\n",
    "        return error\n",
    "\n",
    "    def sample_betas(self):\n",
    "        assert self.is_fitted\n",
    "        var = (1 / self.X.shape[0] - self.X.shape[1] - 1) * sum(\n",
    "            self.predict(self.X) - self.y\n",
    "        ) ** 2\n",
    "\n",
    "        return np.random.normal(self.weights, np.linalg.inv(np.dot(self.X.T, self.X)))\n",
    "\n",
    "\n",
    "model = OLS(lambda_=10)\n",
    "model.fit(X, y)\n"
   ]
  },
  {
   "cell_type": "code",
   "execution_count": 48,
   "metadata": {
    "scrolled": true
   },
   "outputs": [
    {
     "data": {
      "application/javascript": [
       "\n",
       "            setTimeout(function() {\n",
       "                var nbb_cell_id = 48;\n",
       "                var nbb_unformatted_code = \"variance_estimate = (1 / (X.shape[0] - X.shape[1] - 1)) * np.sum(\\n    (y - model.predict(X)) * 2\\n)\\nbeta_variance = np.linalg.inv(X.T.dot(X)) * variance_estimate\";\n",
       "                var nbb_formatted_code = \"variance_estimate = (1 / (X.shape[0] - X.shape[1] - 1)) * np.sum(\\n    (y - model.predict(X)) * 2\\n)\\nbeta_variance = np.linalg.inv(X.T.dot(X)) * variance_estimate\";\n",
       "                var nbb_cells = Jupyter.notebook.get_cells();\n",
       "                for (var i = 0; i < nbb_cells.length; ++i) {\n",
       "                    if (nbb_cells[i].input_prompt_number == nbb_cell_id) {\n",
       "                        if (nbb_cells[i].get_text() == nbb_unformatted_code) {\n",
       "                             nbb_cells[i].set_text(nbb_formatted_code);\n",
       "                        }\n",
       "                        break;\n",
       "                    }\n",
       "                }\n",
       "            }, 500);\n",
       "            "
      ],
      "text/plain": [
       "<IPython.core.display.Javascript object>"
      ]
     },
     "metadata": {},
     "output_type": "display_data"
    }
   ],
   "source": [
    "variance_estimate = (1 / (X.shape[0] - X.shape[1] - 1)) * np.sum(\n",
    "    (y - model.predict(X)) * 2\n",
    ")\n",
    "beta_variance = np.linalg.inv(X.T.dot(X)) * variance_estimate"
   ]
  },
  {
   "cell_type": "code",
   "execution_count": 64,
   "metadata": {},
   "outputs": [
    {
     "data": {
      "text/plain": [
       "<matplotlib.axes._subplots.AxesSubplot at 0x1d20483b388>"
      ]
     },
     "execution_count": 64,
     "metadata": {},
     "output_type": "execute_result"
    },
    {
     "data": {
      "image/png": "[encoded data removed]",
      "text/plain": [
       "<Figure size 432x288 with 1 Axes>"
      ]
     },
     "metadata": {
      "needs_background": "light"
     },
     "output_type": "display_data"
    },
    {
     "data": {
      "application/javascript": [
       "\n",
       "            setTimeout(function() {\n",
       "                var nbb_cell_id = 64;\n",
       "                var nbb_unformatted_code = \"import seaborn as sns\\n\\nsns.distplot(\\n    np.random.multivariate_normal(model.weights[1:], beta_variance, 1000)[:, 1]\\n)\";\n",
       "                var nbb_formatted_code = \"import seaborn as sns\\n\\nsns.distplot(\\n    np.random.multivariate_normal(model.weights[1:], beta_variance, 1000)[:, 1]\\n)\";\n",
       "                var nbb_cells = Jupyter.notebook.get_cells();\n",
       "                for (var i = 0; i < nbb_cells.length; ++i) {\n",
       "                    if (nbb_cells[i].input_prompt_number == nbb_cell_id) {\n",
       "                        if (nbb_cells[i].get_text() == nbb_unformatted_code) {\n",
       "                             nbb_cells[i].set_text(nbb_formatted_code);\n",
       "                        }\n",
       "                        break;\n",
       "                    }\n",
       "                }\n",
       "            }, 500);\n",
       "            "
      ],
      "text/plain": [
       "<IPython.core.display.Javascript object>"
      ]
     },
     "metadata": {},
     "output_type": "display_data"
    }
   ],
   "source": [
    "import seaborn as sns\n",
    "\n",
    "sns.distplot(\n",
    "    np.random.multivariate_normal(model.weights[1:], beta_variance, 1000)[:, 1]\n",
    ")"
   ]
  },
  {
   "cell_type": "code",
   "execution_count": null,
   "metadata": {},
   "outputs": [],
   "source": []
  },
  {
   "cell_type": "markdown",
   "metadata": {},
   "source": [
    "# Understanding $\\beta$\n",
    "\n"
   ]
  },
  {
   "cell_type": "code",
   "execution_count": null,
   "metadata": {},
   "outputs": [],
   "source": []
  },
  {
   "cell_type": "code",
   "execution_count": null,
   "metadata": {},
   "outputs": [],
   "source": []
  },
  {
   "cell_type": "code",
   "execution_count": null,
   "metadata": {},
   "outputs": [],
   "source": []
  },
  {
   "cell_type": "code",
   "execution_count": null,
   "metadata": {},
   "outputs": [],
   "source": []
  },
  {
   "cell_type": "markdown",
   "metadata": {},
   "source": [
    "# Simple vs Multiple regression\n",
    "\n",
    "Now that we have explored some geometry of linear models, it is now a good idea to use a real dataset to discover how such models can be used and intepreted.\n",
    "In simple univariate linear regression, we can interpret the $\\hat{\\beta}$ coefecient to be the change for 1 unit of our target variable, for 1 unit in our explanatory variable. Can the same logic be applied to multivariate linear regression? Well yes and no! Assume the following multivariate model:\n",
    "\n",
    "\\begin{equation*}\n",
    "y = \\beta_0 + \\beta_1x_1 + \\beta_2x_2 + \\epsilon\n",
    "\\end{equation*}\n",
    "\n",
    "Under what circumstances could $\\beta_1$ be interpreted in an identical way to thisunviariate model (assuming the same data)?:\n",
    "\n",
    "\\begin{equation*}\n",
    "y = \\beta_0 + \\beta_1x_1 + \\epsilon\n",
    "\\end{equation*}\n",
    "\n",
    "(note that we are assuming any affects from $x_2$ are accounted for in the error term $\\epsilon $)\n",
    "\n",
    "We can define a relationship between these parameters as such:\n",
    "\n",
    "\\begin{equation*}\n",
    "\\hat{\\beta}_{1_{univariate case}} = \\hat{\\beta}_{1_{multivariate case}} + \\delta_1 \\hat{\\beta}_{2_{multivariate case}}\n",
    "\\end{equation*}\n",
    "\n",
    "where $\\delta_1$ is the slope coefficient that we would get from performing a simple univariate regression of $x_2$ on $x_1$. Remember what we are doing when we \"regress a on b\". We are finding the orthogonol projection of $x_2$ onto the column space of $x_1$. In other words, when we say we are regressing $x_2$ on $x_1$, we are finding the residual vector that is this orthogonol vector. \n",
    "\n",
    "What is this projection? We have already seen it!\n",
    "\n",
    "\\begin{equation*}\n",
    "\\frac{(x,y)}{(x,x)}\n",
    "\\end{equation*}\n",
    "...\n",
    "...\n",
    "...\n",
    "\n"
   ]
  },
  {
   "cell_type": "code",
   "execution_count": 65,
   "metadata": {},
   "outputs": [
    {
     "data": {
      "application/javascript": [
       "\n",
       "            setTimeout(function() {\n",
       "                var nbb_cell_id = 65;\n",
       "                var nbb_unformatted_code = \"# get our real life dataset\\nfrom sklearn.datasets import load_boston\\nimport pandas as pd\\n\\n# generate some correlated data\\nnum_samples = 100\\nmu = np.array([5.0, 0.0, 10.0])\\n\\nr = np.array([[3.40, -2.75, -2.00], [-2.75, 5.50, 1.50], [-2.00, 1.50, 1.25]])\\n\\ndata = np.random.multivariate_normal(mu, r, size=num_samples)\\n\\nX = data[:, :2]\\n\\nx1 = X[:,0]\\nx2 = X[:,1]\\n\\ny = data[:, -1]\";\n",
       "                var nbb_formatted_code = \"# get our real life dataset\\nfrom sklearn.datasets import load_boston\\nimport pandas as pd\\n\\n# generate some correlated data\\nnum_samples = 100\\nmu = np.array([5.0, 0.0, 10.0])\\n\\nr = np.array([[3.40, -2.75, -2.00], [-2.75, 5.50, 1.50], [-2.00, 1.50, 1.25]])\\n\\ndata = np.random.multivariate_normal(mu, r, size=num_samples)\\n\\nX = data[:, :2]\\n\\nx1 = X[:, 0]\\nx2 = X[:, 1]\\n\\ny = data[:, -1]\";\n",
       "                var nbb_cells = Jupyter.notebook.get_cells();\n",
       "                for (var i = 0; i < nbb_cells.length; ++i) {\n",
       "                    if (nbb_cells[i].input_prompt_number == nbb_cell_id) {\n",
       "                        if (nbb_cells[i].get_text() == nbb_unformatted_code) {\n",
       "                             nbb_cells[i].set_text(nbb_formatted_code);\n",
       "                        }\n",
       "                        break;\n",
       "                    }\n",
       "                }\n",
       "            }, 500);\n",
       "            "
      ],
      "text/plain": [
       "<IPython.core.display.Javascript object>"
      ]
     },
     "metadata": {},
     "output_type": "display_data"
    }
   ],
   "source": [
    "# get our real life dataset\n",
    "from sklearn.datasets import load_boston\n",
    "import pandas as pd\n",
    "\n",
    "# generate some correlated data\n",
    "num_samples = 100\n",
    "mu = np.array([5.0, 0.0, 10.0])\n",
    "\n",
    "r = np.array([[3.40, -2.75, -2.00], [-2.75, 5.50, 1.50], [-2.00, 1.50, 1.25]])\n",
    "\n",
    "data = np.random.multivariate_normal(mu, r, size=num_samples)\n",
    "\n",
    "X = data[:, :2]\n",
    "\n",
    "x1 = X[:,0]\n",
    "x2 = X[:,1]\n",
    "\n",
    "y = data[:, -1]\n",
    "\n"
   ]
  },
  {
   "cell_type": "code",
   "execution_count": 66,
   "metadata": {},
   "outputs": [
    {
     "data": {
      "text/plain": [
       "array([[1.       , 0.0387628],\n",
       "       [0.0387628, 1.       ]])"
      ]
     },
     "execution_count": 66,
     "metadata": {},
     "output_type": "execute_result"
    },
    {
     "data": {
      "application/javascript": [
       "\n",
       "            setTimeout(function() {\n",
       "                var nbb_cell_id = 66;\n",
       "                var nbb_unformatted_code = \"X = np.concatenate(\\n    [\\n        np.random.normal(size=100).reshape(-1, 1),\\n        np.random.normal(size=100).reshape(-1, 1),\\n    ],\\n    axis=1,\\n)\\nx1 = X[:, 0]\\nx2 = X[:, 1]\\n\\nnp.corrcoef(x1, x2)\";\n",
       "                var nbb_formatted_code = \"X = np.concatenate(\\n    [\\n        np.random.normal(size=100).reshape(-1, 1),\\n        np.random.normal(size=100).reshape(-1, 1),\\n    ],\\n    axis=1,\\n)\\nx1 = X[:, 0]\\nx2 = X[:, 1]\\n\\nnp.corrcoef(x1, x2)\";\n",
       "                var nbb_cells = Jupyter.notebook.get_cells();\n",
       "                for (var i = 0; i < nbb_cells.length; ++i) {\n",
       "                    if (nbb_cells[i].input_prompt_number == nbb_cell_id) {\n",
       "                        if (nbb_cells[i].get_text() == nbb_unformatted_code) {\n",
       "                             nbb_cells[i].set_text(nbb_formatted_code);\n",
       "                        }\n",
       "                        break;\n",
       "                    }\n",
       "                }\n",
       "            }, 500);\n",
       "            "
      ],
      "text/plain": [
       "<IPython.core.display.Javascript object>"
      ]
     },
     "metadata": {},
     "output_type": "display_data"
    }
   ],
   "source": [
    "X = np.concatenate(\n",
    "    [\n",
    "        np.random.normal(size=100).reshape(-1, 1),\n",
    "        np.random.normal(size=100).reshape(-1, 1),\n",
    "    ],\n",
    "    axis=1,\n",
    ")\n",
    "x1 = X[:, 0]\n",
    "x2 = X[:, 1]\n",
    "\n",
    "np.corrcoef(x1, x2)"
   ]
  },
  {
   "cell_type": "code",
   "execution_count": 67,
   "metadata": {},
   "outputs": [
    {
     "data": {
      "text/plain": [
       "<matplotlib.collections.PathCollection at 0x1d205927788>"
      ]
     },
     "execution_count": 67,
     "metadata": {},
     "output_type": "execute_result"
    },
    {
     "data": {
      "image/png": "[encoded data removed]",
      "text/plain": [
       "<Figure size 432x288 with 1 Axes>"
      ]
     },
     "metadata": {
      "needs_background": "light"
     },
     "output_type": "display_data"
    },
    {
     "data": {
      "application/javascript": [
       "\n",
       "            setTimeout(function() {\n",
       "                var nbb_cell_id = 67;\n",
       "                var nbb_unformatted_code = \"plt.scatter(x1, x2)\";\n",
       "                var nbb_formatted_code = \"plt.scatter(x1, x2)\";\n",
       "                var nbb_cells = Jupyter.notebook.get_cells();\n",
       "                for (var i = 0; i < nbb_cells.length; ++i) {\n",
       "                    if (nbb_cells[i].input_prompt_number == nbb_cell_id) {\n",
       "                        if (nbb_cells[i].get_text() == nbb_unformatted_code) {\n",
       "                             nbb_cells[i].set_text(nbb_formatted_code);\n",
       "                        }\n",
       "                        break;\n",
       "                    }\n",
       "                }\n",
       "            }, 500);\n",
       "            "
      ],
      "text/plain": [
       "<IPython.core.display.Javascript object>"
      ]
     },
     "metadata": {},
     "output_type": "display_data"
    }
   ],
   "source": [
    "plt.scatter(x1, x2)"
   ]
  },
  {
   "cell_type": "code",
   "execution_count": 68,
   "metadata": {},
   "outputs": [
    {
     "data": {
      "application/javascript": [
       "\n",
       "            setTimeout(function() {\n",
       "                var nbb_cell_id = 68;\n",
       "                var nbb_unformatted_code = \"# lets fit both models using our OLS class\\n\\n# Fit two univariate models on each data point x1 x2\\nmodel_uni_0 = OLS()\\nmodel_uni_1 = OLS()\\n\\nmodel_uni_0.fit(x1.reshape(-1, 1), y)\\nmodel_uni_1.fit(x2.reshape(-1, 1), y)\\n\\n# Fit a multivariate model on both data points x1 x2\\nmodel_multi = OLS()\\nmodel_multi.fit(X, y)\";\n",
       "                var nbb_formatted_code = \"# lets fit both models using our OLS class\\n\\n# Fit two univariate models on each data point x1 x2\\nmodel_uni_0 = OLS()\\nmodel_uni_1 = OLS()\\n\\nmodel_uni_0.fit(x1.reshape(-1, 1), y)\\nmodel_uni_1.fit(x2.reshape(-1, 1), y)\\n\\n# Fit a multivariate model on both data points x1 x2\\nmodel_multi = OLS()\\nmodel_multi.fit(X, y)\";\n",
       "                var nbb_cells = Jupyter.notebook.get_cells();\n",
       "                for (var i = 0; i < nbb_cells.length; ++i) {\n",
       "                    if (nbb_cells[i].input_prompt_number == nbb_cell_id) {\n",
       "                        if (nbb_cells[i].get_text() == nbb_unformatted_code) {\n",
       "                             nbb_cells[i].set_text(nbb_formatted_code);\n",
       "                        }\n",
       "                        break;\n",
       "                    }\n",
       "                }\n",
       "            }, 500);\n",
       "            "
      ],
      "text/plain": [
       "<IPython.core.display.Javascript object>"
      ]
     },
     "metadata": {},
     "output_type": "display_data"
    }
   ],
   "source": [
    "# lets fit both models using our OLS class\n",
    "\n",
    "# Fit two univariate models on each data point x1 x2\n",
    "model_uni_0 = OLS()\n",
    "model_uni_1 = OLS()\n",
    "\n",
    "model_uni_0.fit(x1.reshape(-1, 1), y)\n",
    "model_uni_1.fit(x2.reshape(-1, 1), y)\n",
    "\n",
    "# Fit a multivariate model on both data points x1 x2\n",
    "model_multi = OLS()\n",
    "model_multi.fit(X, y)"
   ]
  },
  {
   "cell_type": "code",
   "execution_count": 69,
   "metadata": {},
   "outputs": [
    {
     "data": {
      "application/javascript": [
       "\n",
       "            setTimeout(function() {\n",
       "                var nbb_cell_id = 69;\n",
       "                var nbb_unformatted_code = \"def projection_a_on_b(a, b):\\n    return np.dot(a, b) / np.dot(a, a)\\n\\n\\ndef get_residual_vector(a, b, coef):\\n    return b - coef * a\";\n",
       "                var nbb_formatted_code = \"def projection_a_on_b(a, b):\\n    return np.dot(a, b) / np.dot(a, a)\\n\\n\\ndef get_residual_vector(a, b, coef):\\n    return b - coef * a\";\n",
       "                var nbb_cells = Jupyter.notebook.get_cells();\n",
       "                for (var i = 0; i < nbb_cells.length; ++i) {\n",
       "                    if (nbb_cells[i].input_prompt_number == nbb_cell_id) {\n",
       "                        if (nbb_cells[i].get_text() == nbb_unformatted_code) {\n",
       "                             nbb_cells[i].set_text(nbb_formatted_code);\n",
       "                        }\n",
       "                        break;\n",
       "                    }\n",
       "                }\n",
       "            }, 500);\n",
       "            "
      ],
      "text/plain": [
       "<IPython.core.display.Javascript object>"
      ]
     },
     "metadata": {},
     "output_type": "display_data"
    }
   ],
   "source": [
    "def projection_a_on_b(a, b):\n",
    "    return np.dot(a, b) / np.dot(a, a)\n",
    "\n",
    "\n",
    "def get_residual_vector(a, b, coef):\n",
    "    return b - coef * a"
   ]
  },
  {
   "cell_type": "code",
   "execution_count": 70,
   "metadata": {},
   "outputs": [
    {
     "data": {
      "application/javascript": [
       "\n",
       "            setTimeout(function() {\n",
       "                var nbb_cell_id = 70;\n",
       "                var nbb_unformatted_code = \"bias = np.ones(X.shape[0])\\n\\nz0 = bias\\ncoef11 = projection_a_on_b(bias, x1)\\nz1 = x1 - coef11 * bias\\n\\ncoef12 = projection_a_on_b(z0, x2)\\ncoef22 = projection_a_on_b(z1, x2)\\nz2 = x2 - coef12 * z0 - coef22 * z1\";\n",
       "                var nbb_formatted_code = \"bias = np.ones(X.shape[0])\\n\\nz0 = bias\\ncoef11 = projection_a_on_b(bias, x1)\\nz1 = x1 - coef11 * bias\\n\\ncoef12 = projection_a_on_b(z0, x2)\\ncoef22 = projection_a_on_b(z1, x2)\\nz2 = x2 - coef12 * z0 - coef22 * z1\";\n",
       "                var nbb_cells = Jupyter.notebook.get_cells();\n",
       "                for (var i = 0; i < nbb_cells.length; ++i) {\n",
       "                    if (nbb_cells[i].input_prompt_number == nbb_cell_id) {\n",
       "                        if (nbb_cells[i].get_text() == nbb_unformatted_code) {\n",
       "                             nbb_cells[i].set_text(nbb_formatted_code);\n",
       "                        }\n",
       "                        break;\n",
       "                    }\n",
       "                }\n",
       "            }, 500);\n",
       "            "
      ],
      "text/plain": [
       "<IPython.core.display.Javascript object>"
      ]
     },
     "metadata": {},
     "output_type": "display_data"
    }
   ],
   "source": [
    "bias = np.ones(X.shape[0])\n",
    "\n",
    "z0 = bias\n",
    "coef11 = projection_a_on_b(bias, x1)\n",
    "z1 = x1 - coef11 * bias\n",
    "\n",
    "coef12 = projection_a_on_b(z0, x2)\n",
    "coef22 = projection_a_on_b(z1, x2)\n",
    "z2 = x2 - coef12 * z0 - coef22 * z1"
   ]
  },
  {
   "cell_type": "code",
   "execution_count": 71,
   "metadata": {},
   "outputs": [
    {
     "name": "stdout",
     "output_type": "stream",
     "text": [
      "Estimate for b1      Estimate for b2\n",
      "------------------------------------------------------------\n",
      "Weights for univariate regression\n",
      "------------------------------------------------------------\n",
      "-0.12441891318887272 -0.11016003730348967\n",
      "------------------------------------------------------------\n",
      "Weights for multivariate regression\n",
      "------------------------------------------------------------\n",
      "[-0.1203359 -0.1054886]\n",
      "------------------------------------------------------------\n",
      "Weights for multivariate regression using Gram Schmidt\n",
      "------------------------------------------------------------\n",
      "-0.12441891318887272 -0.1054886013634884\n"
     ]
    },
    {
     "data": {
      "application/javascript": [
       "\n",
       "            setTimeout(function() {\n",
       "                var nbb_cell_id = 71;\n",
       "                var nbb_unformatted_code = \"print(\\\"Estimate for b1\\\", \\\"    \\\", \\\"Estimate for b2\\\")\\nprint(\\\"---\\\" * 20)\\nprint(\\\"Weights for univariate regression\\\")\\nprint(\\\"---\\\" * 20)\\nprint(model_uni_0.weights[1], model_uni_1.weights[1])\\nprint(\\\"---\\\" * 20)\\nprint(\\\"Weights for multivariate regression\\\")\\nprint(\\\"---\\\" * 20)\\nprint(model_multi.weights[1:])\\nprint(\\\"---\\\" * 20)\\nprint(\\\"Weights for multivariate regression using Gram Schmidt\\\")\\nprint(\\\"---\\\" * 20)\\nprint(projection_a_on_b(z1, y), projection_a_on_b(z2, y))\";\n",
       "                var nbb_formatted_code = \"print(\\\"Estimate for b1\\\", \\\"    \\\", \\\"Estimate for b2\\\")\\nprint(\\\"---\\\" * 20)\\nprint(\\\"Weights for univariate regression\\\")\\nprint(\\\"---\\\" * 20)\\nprint(model_uni_0.weights[1], model_uni_1.weights[1])\\nprint(\\\"---\\\" * 20)\\nprint(\\\"Weights for multivariate regression\\\")\\nprint(\\\"---\\\" * 20)\\nprint(model_multi.weights[1:])\\nprint(\\\"---\\\" * 20)\\nprint(\\\"Weights for multivariate regression using Gram Schmidt\\\")\\nprint(\\\"---\\\" * 20)\\nprint(projection_a_on_b(z1, y), projection_a_on_b(z2, y))\";\n",
       "                var nbb_cells = Jupyter.notebook.get_cells();\n",
       "                for (var i = 0; i < nbb_cells.length; ++i) {\n",
       "                    if (nbb_cells[i].input_prompt_number == nbb_cell_id) {\n",
       "                        if (nbb_cells[i].get_text() == nbb_unformatted_code) {\n",
       "                             nbb_cells[i].set_text(nbb_formatted_code);\n",
       "                        }\n",
       "                        break;\n",
       "                    }\n",
       "                }\n",
       "            }, 500);\n",
       "            "
      ],
      "text/plain": [
       "<IPython.core.display.Javascript object>"
      ]
     },
     "metadata": {},
     "output_type": "display_data"
    }
   ],
   "source": [
    "print(\"Estimate for b1\", \"    \", \"Estimate for b2\")\n",
    "print(\"---\" * 20)\n",
    "print(\"Weights for univariate regression\")\n",
    "print(\"---\" * 20)\n",
    "print(model_uni_0.weights[1], model_uni_1.weights[1])\n",
    "print(\"---\" * 20)\n",
    "print(\"Weights for multivariate regression\")\n",
    "print(\"---\" * 20)\n",
    "print(model_multi.weights[1:])\n",
    "print(\"---\" * 20)\n",
    "print(\"Weights for multivariate regression using Gram Schmidt\")\n",
    "print(\"---\" * 20)\n",
    "print(projection_a_on_b(z1, y), projection_a_on_b(z2, y))"
   ]
  },
  {
   "cell_type": "code",
   "execution_count": 76,
   "metadata": {},
   "outputs": [
    {
     "data": {
      "application/javascript": [
       "\n",
       "            setTimeout(function() {\n",
       "                var nbb_cell_id = 76;\n",
       "                var nbb_unformatted_code = \"Q,R = np.linalg.qr(X)\";\n",
       "                var nbb_formatted_code = \"Q, R = np.linalg.qr(X)\";\n",
       "                var nbb_cells = Jupyter.notebook.get_cells();\n",
       "                for (var i = 0; i < nbb_cells.length; ++i) {\n",
       "                    if (nbb_cells[i].input_prompt_number == nbb_cell_id) {\n",
       "                        if (nbb_cells[i].get_text() == nbb_unformatted_code) {\n",
       "                             nbb_cells[i].set_text(nbb_formatted_code);\n",
       "                        }\n",
       "                        break;\n",
       "                    }\n",
       "                }\n",
       "            }, 500);\n",
       "            "
      ],
      "text/plain": [
       "<IPython.core.display.Javascript object>"
      ]
     },
     "metadata": {},
     "output_type": "display_data"
    }
   ],
   "source": [
    "Q, R = np.linalg.qr(X)"
   ]
  },
  {
   "cell_type": "code",
   "execution_count": 79,
   "metadata": {},
   "outputs": [
    {
     "data": {
      "text/plain": [
       "array([-0.33060489, -1.33097009])"
      ]
     },
     "execution_count": 79,
     "metadata": {},
     "output_type": "execute_result"
    },
    {
     "data": {
      "application/javascript": [
       "\n",
       "            setTimeout(function() {\n",
       "                var nbb_cell_id = 79;\n",
       "                var nbb_unformatted_code = \"np.dot(np.linalg.inv(R), np.dot(Q.T,y))\";\n",
       "                var nbb_formatted_code = \"np.dot(np.linalg.inv(R), np.dot(Q.T, y))\";\n",
       "                var nbb_cells = Jupyter.notebook.get_cells();\n",
       "                for (var i = 0; i < nbb_cells.length; ++i) {\n",
       "                    if (nbb_cells[i].input_prompt_number == nbb_cell_id) {\n",
       "                        if (nbb_cells[i].get_text() == nbb_unformatted_code) {\n",
       "                             nbb_cells[i].set_text(nbb_formatted_code);\n",
       "                        }\n",
       "                        break;\n",
       "                    }\n",
       "                }\n",
       "            }, 500);\n",
       "            "
      ],
      "text/plain": [
       "<IPython.core.display.Javascript object>"
      ]
     },
     "metadata": {},
     "output_type": "display_data"
    }
   ],
   "source": [
    "np.dot(np.linalg.inv(R), np.dot(Q.T, y))"
   ]
  },
  {
   "cell_type": "code",
   "execution_count": 82,
   "metadata": {},
   "outputs": [
    {
     "data": {
      "text/plain": [
       "968.1414903029748"
      ]
     },
     "execution_count": 82,
     "metadata": {},
     "output_type": "execute_result"
    },
    {
     "data": {
      "application/javascript": [
       "\n",
       "            setTimeout(function() {\n",
       "                var nbb_cell_id = 82;\n",
       "                var nbb_unformatted_code = \"sum((y - np.dot(Q, np.dot(Q.T, y))*2))\";\n",
       "                var nbb_formatted_code = \"sum((y - np.dot(Q, np.dot(Q.T, y)) * 2))\";\n",
       "                var nbb_cells = Jupyter.notebook.get_cells();\n",
       "                for (var i = 0; i < nbb_cells.length; ++i) {\n",
       "                    if (nbb_cells[i].input_prompt_number == nbb_cell_id) {\n",
       "                        if (nbb_cells[i].get_text() == nbb_unformatted_code) {\n",
       "                             nbb_cells[i].set_text(nbb_formatted_code);\n",
       "                        }\n",
       "                        break;\n",
       "                    }\n",
       "                }\n",
       "            }, 500);\n",
       "            "
      ],
      "text/plain": [
       "<IPython.core.display.Javascript object>"
      ]
     },
     "metadata": {},
     "output_type": "display_data"
    }
   ],
   "source": [
    "sum((y - np.dot(Q, np.dot(Q.T, y)) * 2))"
   ]
  },
  {
   "cell_type": "markdown",
   "metadata": {},
   "source": [
    "# Gram-Schmidt Orthogonalisation for Regression\n",
    "\n",
    "It is often said that having correlated inputs to a regression model can lead to unstable results. This is a very important idea, but one which can be a little difficult to see why is the case.\n",
    "\n",
    "In a univariate case, what is the least squares estimate of our parameter $\\hat{\\beta}$?\n",
    "\n",
    "\\begin{equation*}\n",
    " \\hat{\\beta} = \\frac{\\sum_1^Nx_iy_i}{\\sum_1^Nx_i^2}\n",
    "\\end{equation*}\n",
    "\n",
    "which leads to a residual (error) vector of:\n",
    "\n",
    "\\begin{equation*}\n",
    " r_i = y_i - x_i \\hat{\\beta}\n",
    "\\end{equation*}\n",
    "\n",
    "Using vector notation, this parameter estimate can be written as such:\n",
    "\\begin{equation*}\n",
    " \\hat{\\beta} = \\frac{(x,y)}{(x,x)}\n",
    "\\end{equation*}\n",
    "\n",
    "\n",
    "...\n",
    "\n",
    "\n",
    "\n",
    "Here a question. When does this equation get extremely large? In the limit as the denominator of a fraction goes to 0, the answer shoots off to infinity. In other words, in our equation for the parameter estimate, the smaller the residual vector $z_p$, the larger the esimate will be. \n",
    "\n",
    "When is the residual vector small? Well when the two vectors $x_1$ and $x_2$ are highly correlated! In other words, the more highly correlated two vectors are, the smaller the residual vector between them will be, and hence the larger the estimate for the beta paramater. \n",
    "\n",
    "THis is of course only loolking at two inputs. You can hopefully see how this affect on the residual vector is exacerbated the more residual vectors that we are regressing on (or in other words, the dimensions on our input X). So when our input matrix is highly correlated, it becomes very difficult to see where the..."
   ]
  },
  {
   "cell_type": "code",
   "execution_count": 600,
   "metadata": {},
   "outputs": [
    {
     "data": {
      "text/plain": [
       "269.8338164980422"
      ]
     },
     "execution_count": 600,
     "metadata": {},
     "output_type": "execute_result"
    },
    {
     "data": {
      "application/javascript": [
       "\n",
       "            setTimeout(function() {\n",
       "                var nbb_cell_id = 600;\n",
       "                var nbb_unformatted_code = \"# are inputs orthogonal?\\nnp.dot(x1, x2)\\n\\n# no!\";\n",
       "                var nbb_formatted_code = \"# are inputs orthogonal?\\nnp.dot(x1, x2)\\n\\n# no!\";\n",
       "                var nbb_cells = Jupyter.notebook.get_cells();\n",
       "                for (var i = 0; i < nbb_cells.length; ++i) {\n",
       "                    if (nbb_cells[i].input_prompt_number == nbb_cell_id) {\n",
       "                        if (nbb_cells[i].get_text() == nbb_unformatted_code) {\n",
       "                             nbb_cells[i].set_text(nbb_formatted_code);\n",
       "                        }\n",
       "                        break;\n",
       "                    }\n",
       "                }\n",
       "            }, 500);\n",
       "            "
      ],
      "text/plain": [
       "<IPython.core.display.Javascript object>"
      ]
     },
     "metadata": {},
     "output_type": "display_data"
    }
   ],
   "source": [
    "# are inputs orthogonal?\n",
    "np.dot(x1, x2)\n",
    "\n",
    "# no!"
   ]
  },
  {
   "cell_type": "code",
   "execution_count": null,
   "metadata": {},
   "outputs": [],
   "source": []
  },
  {
   "cell_type": "code",
   "execution_count": 617,
   "metadata": {},
   "outputs": [
    {
     "data": {
      "application/javascript": [
       "\n",
       "            setTimeout(function() {\n",
       "                var nbb_cell_id = 617;\n",
       "                var nbb_unformatted_code = \"# lets walk through one step of the gram schmidt process\\nX, y = make_regression(n_features=2)\\nx1 = X[:,0]\\nx2 = X[:,1]\";\n",
       "                var nbb_formatted_code = \"# lets walk through one step of the gram schmidt process\\nX, y = make_regression(n_features=2)\\nx1 = X[:, 0]\\nx2 = X[:, 1]\";\n",
       "                var nbb_cells = Jupyter.notebook.get_cells();\n",
       "                for (var i = 0; i < nbb_cells.length; ++i) {\n",
       "                    if (nbb_cells[i].input_prompt_number == nbb_cell_id) {\n",
       "                        if (nbb_cells[i].get_text() == nbb_unformatted_code) {\n",
       "                             nbb_cells[i].set_text(nbb_formatted_code);\n",
       "                        }\n",
       "                        break;\n",
       "                    }\n",
       "                }\n",
       "            }, 500);\n",
       "            "
      ],
      "text/plain": [
       "<IPython.core.display.Javascript object>"
      ]
     },
     "metadata": {},
     "output_type": "display_data"
    }
   ],
   "source": [
    "# lets walk through one step of the gram schmidt process\n",
    "X, y = make_regression(n_features=2)\n",
    "x1 = X[:, 0]\n",
    "x2 = X[:, 1]"
   ]
  },
  {
   "cell_type": "code",
   "execution_count": 622,
   "metadata": {},
   "outputs": [
    {
     "data": {
      "application/javascript": [
       "\n",
       "            setTimeout(function() {\n",
       "                var nbb_cell_id = 622;\n",
       "                var nbb_unformatted_code = \"# regress x1 on bias vector\\nz1 = x1 - np.mean(x1)\";\n",
       "                var nbb_formatted_code = \"# regress x1 on bias vector\\nz1 = x1 - np.mean(x1)\";\n",
       "                var nbb_cells = Jupyter.notebook.get_cells();\n",
       "                for (var i = 0; i < nbb_cells.length; ++i) {\n",
       "                    if (nbb_cells[i].input_prompt_number == nbb_cell_id) {\n",
       "                        if (nbb_cells[i].get_text() == nbb_unformatted_code) {\n",
       "                             nbb_cells[i].set_text(nbb_formatted_code);\n",
       "                        }\n",
       "                        break;\n",
       "                    }\n",
       "                }\n",
       "            }, 500);\n",
       "            "
      ],
      "text/plain": [
       "<IPython.core.display.Javascript object>"
      ]
     },
     "metadata": {},
     "output_type": "display_data"
    }
   ],
   "source": [
    "# regress x1 on bias vector\n",
    "z1 = x1 - np.mean(x1)\n"
   ]
  },
  {
   "cell_type": "code",
   "execution_count": 626,
   "metadata": {},
   "outputs": [
    {
     "data": {
      "application/javascript": [
       "\n",
       "            setTimeout(function() {\n",
       "                var nbb_cell_id = 626;\n",
       "                var nbb_unformatted_code = \"# regress x2 on z1\\nbeta_1 = np.dot(z1, x2) / np.dot(z1, z1)\\n\\nz2 = x2 - np.dot(beta_1, z1)\";\n",
       "                var nbb_formatted_code = \"# regress x2 on z1\\nbeta_1 = np.dot(z1, x2) / np.dot(z1, z1)\\n\\nz2 = x2 - np.dot(beta_1, z1)\";\n",
       "                var nbb_cells = Jupyter.notebook.get_cells();\n",
       "                for (var i = 0; i < nbb_cells.length; ++i) {\n",
       "                    if (nbb_cells[i].input_prompt_number == nbb_cell_id) {\n",
       "                        if (nbb_cells[i].get_text() == nbb_unformatted_code) {\n",
       "                             nbb_cells[i].set_text(nbb_formatted_code);\n",
       "                        }\n",
       "                        break;\n",
       "                    }\n",
       "                }\n",
       "            }, 500);\n",
       "            "
      ],
      "text/plain": [
       "<IPython.core.display.Javascript object>"
      ]
     },
     "metadata": {},
     "output_type": "display_data"
    }
   ],
   "source": [
    "# regress x2 on z1\n",
    "beta_1 = np.dot(z1, x2) / np.dot(z1, z1)\n",
    "\n",
    "z2 = x2 - np.dot(beta_1, z1)\n"
   ]
  },
  {
   "cell_type": "code",
   "execution_count": 628,
   "metadata": {},
   "outputs": [
    {
     "data": {
      "application/javascript": [
       "\n",
       "            setTimeout(function() {\n",
       "                var nbb_cell_id = 628;\n",
       "                var nbb_unformatted_code = \"# we can now find a particular beta by regression y on that residual vector\\n\\nbeta_2 = np.dot(z2, y) / np.dot(z2, z2)\";\n",
       "                var nbb_formatted_code = \"# we can now find a particular beta by regression y on that residual vector\\n\\nbeta_2 = np.dot(z2, y) / np.dot(z2, z2)\";\n",
       "                var nbb_cells = Jupyter.notebook.get_cells();\n",
       "                for (var i = 0; i < nbb_cells.length; ++i) {\n",
       "                    if (nbb_cells[i].input_prompt_number == nbb_cell_id) {\n",
       "                        if (nbb_cells[i].get_text() == nbb_unformatted_code) {\n",
       "                             nbb_cells[i].set_text(nbb_formatted_code);\n",
       "                        }\n",
       "                        break;\n",
       "                    }\n",
       "                }\n",
       "            }, 500);\n",
       "            "
      ],
      "text/plain": [
       "<IPython.core.display.Javascript object>"
      ]
     },
     "metadata": {},
     "output_type": "display_data"
    }
   ],
   "source": [
    "# we can now find a particular beta by regression y on that residual vector\n",
    "\n",
    "beta_2 = np.dot(z2, y) / np.dot(z2, z2)\n"
   ]
  },
  {
   "cell_type": "code",
   "execution_count": null,
   "metadata": {},
   "outputs": [],
   "source": []
  },
  {
   "cell_type": "code",
   "execution_count": 632,
   "metadata": {},
   "outputs": [
    {
     "data": {
      "text/plain": [
       "array([[-0.00229761,  0.11375298],\n",
       "       [-0.15504685, -0.02275855],\n",
       "       [ 0.17952053,  0.03015269],\n",
       "       [ 0.08829281,  0.1131944 ],\n",
       "       [-0.18292553,  0.07598815],\n",
       "       [-0.05419831, -0.13678818],\n",
       "       [ 0.12270547, -0.04565162],\n",
       "       [ 0.0666077 ,  0.12514536],\n",
       "       [ 0.12576041,  0.07802047],\n",
       "       [-0.14180264, -0.08306831],\n",
       "       [-0.11740692,  0.04098348],\n",
       "       [-0.14589552,  0.23063147],\n",
       "       [ 0.00147172, -0.02047355],\n",
       "       [ 0.18790707, -0.10443763],\n",
       "       [ 0.22954063, -0.03096558],\n",
       "       [-0.0381227 ,  0.10940433],\n",
       "       [-0.02466032, -0.1850471 ],\n",
       "       [ 0.08990829,  0.02884958],\n",
       "       [ 0.00488107,  0.06562306],\n",
       "       [ 0.03610896, -0.09426014],\n",
       "       [-0.16998999,  0.00127118],\n",
       "       [-0.08044803,  0.1985494 ],\n",
       "       [-0.03622665, -0.02337432],\n",
       "       [-0.1125704 , -0.07335979],\n",
       "       [ 0.00561485,  0.10704321],\n",
       "       [ 0.17752758,  0.06696616],\n",
       "       [-0.02237978,  0.02064419],\n",
       "       [-0.0498581 , -0.05594922],\n",
       "       [ 0.04496748, -0.0315734 ],\n",
       "       [-0.07892101, -0.11214096],\n",
       "       [-0.0276219 ,  0.04457045],\n",
       "       [ 0.04217051, -0.07704533],\n",
       "       [ 0.01853105,  0.22658835],\n",
       "       [-0.04137361, -0.13451368],\n",
       "       [-0.10635275, -0.01417356],\n",
       "       [ 0.01430172,  0.00148964],\n",
       "       [ 0.07079096, -0.08847318],\n",
       "       [ 0.07104797, -0.20465921],\n",
       "       [ 0.06737294,  0.00406021],\n",
       "       [ 0.03190584,  0.07546723],\n",
       "       [ 0.16919741, -0.0455285 ],\n",
       "       [-0.01984284, -0.20857225],\n",
       "       [-0.00640336,  0.00227087],\n",
       "       [-0.09354045,  0.16125089],\n",
       "       [-0.10528885, -0.04528349],\n",
       "       [ 0.01465643,  0.03954988],\n",
       "       [ 0.14428397,  0.0020626 ],\n",
       "       [-0.09547758, -0.02969056],\n",
       "       [-0.13715897,  0.10166639],\n",
       "       [-0.01831558, -0.0606804 ],\n",
       "       [-0.05037239, -0.2266745 ],\n",
       "       [-0.16946286, -0.12253484],\n",
       "       [-0.00641212,  0.05354274],\n",
       "       [-0.06578066,  0.16476685],\n",
       "       [ 0.04788117,  0.173273  ],\n",
       "       [ 0.05222811, -0.06128678],\n",
       "       [-0.08747271, -0.06385489],\n",
       "       [-0.07587711,  0.04528158],\n",
       "       [-0.06070739,  0.13395861],\n",
       "       [-0.00503883,  0.0195811 ],\n",
       "       [-0.03970074,  0.12796605],\n",
       "       [-0.08146077, -0.065223  ],\n",
       "       [ 0.00415486, -0.06992182],\n",
       "       [-0.00480663, -0.15521469],\n",
       "       [ 0.06125416,  0.02170621],\n",
       "       [-0.07962788, -0.01643043],\n",
       "       [-0.0958922 ,  0.04061132],\n",
       "       [-0.14140495, -0.01070476],\n",
       "       [-0.0069441 ,  0.04486092],\n",
       "       [-0.06816958,  0.06696662],\n",
       "       [ 0.18277266,  0.11524214],\n",
       "       [ 0.11423249,  0.04132509],\n",
       "       [ 0.17453284,  0.14631903],\n",
       "       [-0.12213918, -0.01685483],\n",
       "       [ 0.09144455, -0.15309577],\n",
       "       [ 0.03031313,  0.14452323],\n",
       "       [-0.0337273 ,  0.0430861 ],\n",
       "       [-0.0696565 , -0.09275405],\n",
       "       [ 0.05605978, -0.09050921],\n",
       "       [-0.04675002,  0.08932145],\n",
       "       [ 0.0684157 ,  0.02632301],\n",
       "       [ 0.01910467,  0.00965403],\n",
       "       [-0.03965655, -0.03495056],\n",
       "       [-0.0522134 ,  0.18073772],\n",
       "       [-0.29051081, -0.05538144],\n",
       "       [ 0.00764775,  0.03411637],\n",
       "       [-0.11808167,  0.02844135],\n",
       "       [ 0.02354098, -0.00953523],\n",
       "       [-0.04320098, -0.12767732],\n",
       "       [-0.12257998, -0.10689045],\n",
       "       [-0.07445221,  0.01879003],\n",
       "       [ 0.01112771, -0.08173151],\n",
       "       [ 0.22949225,  0.00408517],\n",
       "       [-0.02926979,  0.20574961],\n",
       "       [-0.06667591,  0.07232882],\n",
       "       [ 0.20147351, -0.13252286],\n",
       "       [ 0.0704189 , -0.03315116],\n",
       "       [-0.02428551, -0.16011799],\n",
       "       [-0.17351111, -0.02482269],\n",
       "       [-0.00363176, -0.02725928]])"
      ]
     },
     "execution_count": 632,
     "metadata": {},
     "output_type": "execute_result"
    },
    {
     "data": {
      "application/javascript": [
       "\n",
       "            setTimeout(function() {\n",
       "                var nbb_cell_id = 632;\n",
       "                var nbb_unformatted_code = \"np.linalg.qr(X)[0]\";\n",
       "                var nbb_formatted_code = \"np.linalg.qr(X)[0]\";\n",
       "                var nbb_cells = Jupyter.notebook.get_cells();\n",
       "                for (var i = 0; i < nbb_cells.length; ++i) {\n",
       "                    if (nbb_cells[i].input_prompt_number == nbb_cell_id) {\n",
       "                        if (nbb_cells[i].get_text() == nbb_unformatted_code) {\n",
       "                             nbb_cells[i].set_text(nbb_formatted_code);\n",
       "                        }\n",
       "                        break;\n",
       "                    }\n",
       "                }\n",
       "            }, 500);\n",
       "            "
      ],
      "text/plain": [
       "<IPython.core.display.Javascript object>"
      ]
     },
     "metadata": {},
     "output_type": "display_data"
    }
   ],
   "source": [
    "2np.linalg.qr(X)[0]"
   ]
  },
  {
   "cell_type": "code",
   "execution_count": 577,
   "metadata": {},
   "outputs": [
    {
     "data": {
      "image/png": "[encoded data removed]",
      "text/plain": [
       "<Figure size 432x288 with 1 Axes>"
      ]
     },
     "metadata": {
      "needs_background": "light"
     },
     "output_type": "display_data"
    },
    {
     "data": {
      "text/plain": [
       "-7.105427357601002e-15"
      ]
     },
     "execution_count": 577,
     "metadata": {},
     "output_type": "execute_result"
    },
    {
     "data": {
      "application/javascript": [
       "\n",
       "            setTimeout(function() {\n",
       "                var nbb_cell_id = 577;\n",
       "                var nbb_unformatted_code = \"2  # lets build a functuon that regresses x on y to produce residual vector z\\n\\n\\ndef regress_a_on_b(a, b):\\n    coef = np.dot(a, b) / np.dot(a, a)\\n    resid_vec = b - (coef * a)\\n    return resid_vec, coef\\n\\n\\nplt.scatter(regress_a_on_b(x2, x1)[0], x2)\\nplt.show()\\n\\nnp.dot(regress_a_on_b(x2, x1)[0], x2)\";\n",
       "                var nbb_formatted_code = \"2  # lets build a functuon that regresses x on y to produce residual vector z\\n\\n\\ndef regress_a_on_b(a, b):\\n    coef = np.dot(a, b) / np.dot(a, a)\\n    resid_vec = b - (coef * a)\\n    return resid_vec, coef\\n\\n\\nplt.scatter(regress_a_on_b(x2, x1)[0], x2)\\nplt.show()\\n\\nnp.dot(regress_a_on_b(x2, x1)[0], x2)\";\n",
       "                var nbb_cells = Jupyter.notebook.get_cells();\n",
       "                for (var i = 0; i < nbb_cells.length; ++i) {\n",
       "                    if (nbb_cells[i].input_prompt_number == nbb_cell_id) {\n",
       "                        if (nbb_cells[i].get_text() == nbb_unformatted_code) {\n",
       "                             nbb_cells[i].set_text(nbb_formatted_code);\n",
       "                        }\n",
       "                        break;\n",
       "                    }\n",
       "                }\n",
       "            }, 500);\n",
       "            "
      ],
      "text/plain": [
       "<IPython.core.display.Javascript object>"
      ]
     },
     "metadata": {},
     "output_type": "display_data"
    }
   ],
   "source": [
    "2  # lets build a functuon that regresses x on y to produce residual vector z\n",
    "\n",
    "\n",
    "def regress_a_on_b(a, b):\n",
    "    coef = np.dot(a, b) / np.dot(a, a)\n",
    "    resid_vec = b - (coef * a)\n",
    "    return resid_vec, coef\n",
    "\n",
    "\n",
    "plt.scatter(regress_a_on_b(x2, x1)[0], x2)\n",
    "plt.show()\n",
    "\n",
    "np.dot(regress_a_on_b(x2, x1)[0], x2)"
   ]
  },
  {
   "cell_type": "code",
   "execution_count": 601,
   "metadata": {},
   "outputs": [
    {
     "data": {
      "application/javascript": [
       "\n",
       "            setTimeout(function() {\n",
       "                var nbb_cell_id = 601;\n",
       "                var nbb_unformatted_code = \"# lets go back to our univariate case and compare the gram schmidt procedure to our least squares fit\\n\\nX, y = make_regression(n_features=1, noise=20, random_state=10)\\n\\n\\ndef gram_schmidt(X):\\n    p = X.shape[1]\\n    n = X.shape[0]\\n    z = np.zeros([n, p + 1])\\n\\n    # initialise\\n    z[:, 0] = 1\\n\\n    for j in range(p):\\n        xj = X[:, j]\\n\\n        coef_vec = np.zeros(j + 1)\\n\\n        for l in range(j + 1):\\n            zl = z[:, l]\\n            coef = regr_a_on_b(xj, zl)[1]\\n            coef_vec[l] = coef\\n\\n        zj = xj - np.dot(coef_vec, z[:, : j + 1].T)\\n        z[:, j + 1] = zj\\n    return z\\n\\n\\nresid_vec = gram_schmidt(X)\\nbeta_hat_1 = regr_a_on_b(y, resid_vec[:, 1])[1]\";\n",
       "                var nbb_formatted_code = \"# lets go back to our univariate case and compare the gram schmidt procedure to our least squares fit\\n\\nX, y = make_regression(n_features=1, noise=20, random_state=10)\\n\\n\\ndef gram_schmidt(X):\\n    p = X.shape[1]\\n    n = X.shape[0]\\n    z = np.zeros([n, p + 1])\\n\\n    # initialise\\n    z[:, 0] = 1\\n\\n    for j in range(p):\\n        xj = X[:, j]\\n\\n        coef_vec = np.zeros(j + 1)\\n\\n        for l in range(j + 1):\\n            zl = z[:, l]\\n            coef = regr_a_on_b(xj, zl)[1]\\n            coef_vec[l] = coef\\n\\n        zj = xj - np.dot(coef_vec, z[:, : j + 1].T)\\n        z[:, j + 1] = zj\\n    return z\\n\\n\\nresid_vec = gram_schmidt(X)\\nbeta_hat_1 = regr_a_on_b(y, resid_vec[:, 1])[1]\";\n",
       "                var nbb_cells = Jupyter.notebook.get_cells();\n",
       "                for (var i = 0; i < nbb_cells.length; ++i) {\n",
       "                    if (nbb_cells[i].input_prompt_number == nbb_cell_id) {\n",
       "                        if (nbb_cells[i].get_text() == nbb_unformatted_code) {\n",
       "                             nbb_cells[i].set_text(nbb_formatted_code);\n",
       "                        }\n",
       "                        break;\n",
       "                    }\n",
       "                }\n",
       "            }, 500);\n",
       "            "
      ],
      "text/plain": [
       "<IPython.core.display.Javascript object>"
      ]
     },
     "metadata": {},
     "output_type": "display_data"
    }
   ],
   "source": [
    "# lets go back to our univariate case and compare the gram schmidt procedure to our least squares fit\n",
    "\n",
    "X, y = make_regression(n_features=1, noise=20, random_state=10)\n",
    "\n",
    "\n",
    "def gram_schmidt(X):\n",
    "    p = X.shape[1]\n",
    "    n = X.shape[0]\n",
    "    z = np.zeros([n, p + 1])\n",
    "\n",
    "    # initialise\n",
    "    z[:, 0] = 1\n",
    "\n",
    "    for j in range(p):\n",
    "        xj = X[:, j]\n",
    "\n",
    "        coef_vec = np.zeros(j + 1)\n",
    "\n",
    "        for l in range(j + 1):\n",
    "            zl = z[:, l]\n",
    "            coef = regr_a_on_b(xj, zl)[1]\n",
    "            coef_vec[l] = coef\n",
    "\n",
    "        zj = xj - np.dot(coef_vec, z[:, : j + 1].T)\n",
    "        z[:, j + 1] = zj\n",
    "    return z\n",
    "\n",
    "\n",
    "resid_vec = gram_schmidt(X)\n",
    "beta_hat_1 = regr_a_on_b(y, resid_vec[:, 1])[1]"
   ]
  },
  {
   "cell_type": "code",
   "execution_count": 602,
   "metadata": {},
   "outputs": [
    {
     "data": {
      "text/plain": [
       "Text(0.5, 1.0, 'Example linear model')"
      ]
     },
     "execution_count": 602,
     "metadata": {},
     "output_type": "execute_result"
    },
    {
     "data": {
      "image/png": "[encoded data removed]",
      "text/plain": [
       "<Figure size 432x288 with 1 Axes>"
      ]
     },
     "metadata": {
      "needs_background": "light"
     },
     "output_type": "display_data"
    },
    {
     "data": {
      "application/javascript": [
       "\n",
       "            setTimeout(function() {\n",
       "                var nbb_cell_id = 602;\n",
       "                var nbb_unformatted_code = \"b = 0  # data is centered at zero\\nx_model = np.linspace(X.min(), X.max())\\n\\nm = beta_hat_1  # play around with this value\\ny_model = -m * x_model + b\\n\\n\\nplt.plot(x_model, y_model, color=\\\"red\\\")\\nplt.scatter(X, y)\\nplt.xlabel(\\\"Explanatory vector\\\")\\nplt.ylabel(\\\"Response variable\\\")\\nplt.title(\\\"Example linear model\\\")\";\n",
       "                var nbb_formatted_code = \"b = 0  # data is centered at zero\\nx_model = np.linspace(X.min(), X.max())\\n\\nm = beta_hat_1  # play around with this value\\ny_model = -m * x_model + b\\n\\n\\nplt.plot(x_model, y_model, color=\\\"red\\\")\\nplt.scatter(X, y)\\nplt.xlabel(\\\"Explanatory vector\\\")\\nplt.ylabel(\\\"Response variable\\\")\\nplt.title(\\\"Example linear model\\\")\";\n",
       "                var nbb_cells = Jupyter.notebook.get_cells();\n",
       "                for (var i = 0; i < nbb_cells.length; ++i) {\n",
       "                    if (nbb_cells[i].input_prompt_number == nbb_cell_id) {\n",
       "                        if (nbb_cells[i].get_text() == nbb_unformatted_code) {\n",
       "                             nbb_cells[i].set_text(nbb_formatted_code);\n",
       "                        }\n",
       "                        break;\n",
       "                    }\n",
       "                }\n",
       "            }, 500);\n",
       "            "
      ],
      "text/plain": [
       "<IPython.core.display.Javascript object>"
      ]
     },
     "metadata": {},
     "output_type": "display_data"
    }
   ],
   "source": [
    "b = 0  # data is centered at zero\n",
    "x_model = np.linspace(X.min(), X.max())\n",
    "\n",
    "m = beta_hat_1  # play around with this value\n",
    "y_model = -m * x_model + b\n",
    "\n",
    "\n",
    "plt.plot(x_model, y_model, color=\"red\")\n",
    "plt.scatter(X, y)\n",
    "plt.xlabel(\"Explanatory vector\")\n",
    "plt.ylabel(\"Response variable\")\n",
    "plt.title(\"Example linear model\")"
   ]
  },
  {
   "cell_type": "code",
   "execution_count": null,
   "metadata": {},
   "outputs": [],
   "source": []
  },
  {
   "cell_type": "code",
   "execution_count": null,
   "metadata": {},
   "outputs": [],
   "source": []
  },
  {
   "cell_type": "code",
   "execution_count": null,
   "metadata": {},
   "outputs": [],
   "source": []
  },
  {
   "cell_type": "code",
   "execution_count": null,
   "metadata": {},
   "outputs": [],
   "source": []
  },
  {
   "cell_type": "code",
   "execution_count": null,
   "metadata": {},
   "outputs": [],
   "source": []
  },
  {
   "cell_type": "code",
   "execution_count": null,
   "metadata": {},
   "outputs": [],
   "source": []
  },
  {
   "cell_type": "code",
   "execution_count": null,
   "metadata": {},
   "outputs": [],
   "source": []
  }
 ],
 "metadata": {
  "kernelspec": {
   "display_name": "Python 3",
   "language": "python",
   "name": "python3"
  },
  "language_info": {
   "codemirror_mode": {
    "name": "ipython",
    "version": 3
   },
   "file_extension": ".py",
   "mimetype": "text/x-python",
   "name": "python",
   "nbconvert_exporter": "python",
   "pygments_lexer": "ipython3",
   "version": "3.7.6"
  }
 },
 "nbformat": 4,
 "nbformat_minor": 4
}
