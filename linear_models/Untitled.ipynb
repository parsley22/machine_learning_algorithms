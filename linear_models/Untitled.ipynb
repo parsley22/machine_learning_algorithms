{
 "cells": [
  {
   "cell_type": "code",
   "execution_count": 1,
   "id": "boxed-affair",
   "metadata": {},
   "outputs": [
    {
     "data": {
      "application/javascript": [
       "\n",
       "            setTimeout(function() {\n",
       "                var nbb_cell_id = 1;\n",
       "                var nbb_unformatted_code = \"%load_ext nb_black\";\n",
       "                var nbb_formatted_code = \"%load_ext nb_black\";\n",
       "                var nbb_cells = Jupyter.notebook.get_cells();\n",
       "                for (var i = 0; i < nbb_cells.length; ++i) {\n",
       "                    if (nbb_cells[i].input_prompt_number == nbb_cell_id) {\n",
       "                        if (nbb_cells[i].get_text() == nbb_unformatted_code) {\n",
       "                             nbb_cells[i].set_text(nbb_formatted_code);\n",
       "                        }\n",
       "                        break;\n",
       "                    }\n",
       "                }\n",
       "            }, 500);\n",
       "            "
      ],
      "text/plain": [
       "<IPython.core.display.Javascript object>"
      ]
     },
     "metadata": {},
     "output_type": "display_data"
    }
   ],
   "source": [
    "%load_ext nb_black"
   ]
  },
  {
   "cell_type": "code",
   "execution_count": 76,
   "id": "civil-footwear",
   "metadata": {},
   "outputs": [
    {
     "data": {
      "application/javascript": [
       "\n",
       "            setTimeout(function() {\n",
       "                var nbb_cell_id = 76;\n",
       "                var nbb_unformatted_code = \"import numpy as np\\nfrom sklearn.datasets import make_regression\\nfrom linear_regression import linear_regression\\nfrom sklearn.metrics import mean_squared_error\\nfrom sklearn.model_selection import train_test_split\\nimport matplotlib.pyplot as plt\\nimport time\";\n",
       "                var nbb_formatted_code = \"import numpy as np\\nfrom sklearn.datasets import make_regression\\nfrom linear_regression import linear_regression\\nfrom sklearn.metrics import mean_squared_error\\nfrom sklearn.model_selection import train_test_split\\nimport matplotlib.pyplot as plt\\nimport time\";\n",
       "                var nbb_cells = Jupyter.notebook.get_cells();\n",
       "                for (var i = 0; i < nbb_cells.length; ++i) {\n",
       "                    if (nbb_cells[i].input_prompt_number == nbb_cell_id) {\n",
       "                        if (nbb_cells[i].get_text() == nbb_unformatted_code) {\n",
       "                             nbb_cells[i].set_text(nbb_formatted_code);\n",
       "                        }\n",
       "                        break;\n",
       "                    }\n",
       "                }\n",
       "            }, 500);\n",
       "            "
      ],
      "text/plain": [
       "<IPython.core.display.Javascript object>"
      ]
     },
     "metadata": {},
     "output_type": "display_data"
    }
   ],
   "source": [
    "import numpy as np\n",
    "from sklearn.datasets import make_regression\n",
    "from linear_regression import linear_regression\n",
    "from sklearn.metrics import mean_squared_error\n",
    "from sklearn.model_selection import train_test_split\n",
    "import matplotlib.pyplot as plt\n",
    "import time"
   ]
  },
  {
   "cell_type": "code",
   "execution_count": 114,
   "id": "nominated-transaction",
   "metadata": {},
   "outputs": [
    {
     "data": {
      "text/plain": [
       "'\\nfor l in lambdas:\\n\\n    lr = linear_regression()\\n    lr.fit(X_train, y_train, bias=True, lambda_=l)\\n    y_pred = lr.predict(X_test)\\n    mse.append(mean_squared_error(y_test, y_pred))\\n\\nplt.plot(mse)\\n'"
      ]
     },
     "execution_count": 114,
     "metadata": {},
     "output_type": "execute_result"
    },
    {
     "data": {
      "application/javascript": [
       "\n",
       "            setTimeout(function() {\n",
       "                var nbb_cell_id = 114;\n",
       "                var nbb_unformatted_code = \"seed = 10\\n\\nn_samples = 1_000\\nn_features = 100\\nnoise = 2\\n\\nX, y = make_regression(n_samples, n_features, noise=noise, random_state=seed)\\nX_train, X_test, y_train, y_test = train_test_split(X, y, random_state=seed)\\n\\nmse = []\\n\\nlambdas = np.linspace(0, 20)\\n\\n\\\"\\\"\\\"\\nfor l in lambdas:\\n\\n    lr = linear_regression()\\n    lr.fit(X_train, y_train, bias=True, lambda_=l)\\n    y_pred = lr.predict(X_test)\\n    mse.append(mean_squared_error(y_test, y_pred))\\n\\nplt.plot(mse)\\n\\\"\\\"\\\"\";\n",
       "                var nbb_formatted_code = \"seed = 10\\n\\nn_samples = 1_000\\nn_features = 100\\nnoise = 2\\n\\nX, y = make_regression(n_samples, n_features, noise=noise, random_state=seed)\\nX_train, X_test, y_train, y_test = train_test_split(X, y, random_state=seed)\\n\\nmse = []\\n\\nlambdas = np.linspace(0, 20)\\n\\n\\\"\\\"\\\"\\nfor l in lambdas:\\n\\n    lr = linear_regression()\\n    lr.fit(X_train, y_train, bias=True, lambda_=l)\\n    y_pred = lr.predict(X_test)\\n    mse.append(mean_squared_error(y_test, y_pred))\\n\\nplt.plot(mse)\\n\\\"\\\"\\\"\";\n",
       "                var nbb_cells = Jupyter.notebook.get_cells();\n",
       "                for (var i = 0; i < nbb_cells.length; ++i) {\n",
       "                    if (nbb_cells[i].input_prompt_number == nbb_cell_id) {\n",
       "                        if (nbb_cells[i].get_text() == nbb_unformatted_code) {\n",
       "                             nbb_cells[i].set_text(nbb_formatted_code);\n",
       "                        }\n",
       "                        break;\n",
       "                    }\n",
       "                }\n",
       "            }, 500);\n",
       "            "
      ],
      "text/plain": [
       "<IPython.core.display.Javascript object>"
      ]
     },
     "metadata": {},
     "output_type": "display_data"
    }
   ],
   "source": [
    "seed = 10\n",
    "\n",
    "n_samples = 1_000\n",
    "n_features = 100\n",
    "noise = 2\n",
    "\n",
    "X, y = make_regression(n_samples, n_features, noise=noise, random_state=seed)\n",
    "X_train, X_test, y_train, y_test = train_test_split(X, y, random_state=seed)\n",
    "\n",
    "mse = []\n",
    "\n",
    "lambdas = np.linspace(0, 20)\n",
    "\n",
    "\"\"\"\n",
    "for l in lambdas:\n",
    "\n",
    "    lr = linear_regression()\n",
    "    lr.fit(X_train, y_train, bias=True, lambda_=l)\n",
    "    y_pred = lr.predict(X_test)\n",
    "    mse.append(mean_squared_error(y_test, y_pred))\n",
    "\n",
    "plt.plot(mse)\n",
    "\"\"\""
   ]
  },
  {
   "cell_type": "code",
   "execution_count": 95,
   "id": "juvenile-earth",
   "metadata": {},
   "outputs": [
    {
     "name": "stdout",
     "output_type": "stream",
     "text": [
      "0.16477849999500904\n",
      "0.7380637000023853\n",
      "0.5616668999937247\n"
     ]
    },
    {
     "data": {
      "application/javascript": [
       "\n",
       "            setTimeout(function() {\n",
       "                var nbb_cell_id = 95;\n",
       "                var nbb_unformatted_code = \"from timeit import default_timer as timer\\n\\n\\ndef time_model(model, X, y):\\n\\n    start = timer()\\n    model.fit(X, y)\\n    end = timer()\\n\\n    print(end - start)\\n\\n\\ntime_model(linear_regression(), X_train, y_train)\\ntime_model((regression_gram_schmidt()), X_train, y_train)\\ntime_model(LinearRegression(), X_train, y_train)\";\n",
       "                var nbb_formatted_code = \"from timeit import default_timer as timer\\n\\n\\ndef time_model(model, X, y):\\n\\n    start = timer()\\n    model.fit(X, y)\\n    end = timer()\\n\\n    print(end - start)\\n\\n\\ntime_model(linear_regression(), X_train, y_train)\\ntime_model((regression_gram_schmidt()), X_train, y_train)\\ntime_model(LinearRegression(), X_train, y_train)\";\n",
       "                var nbb_cells = Jupyter.notebook.get_cells();\n",
       "                for (var i = 0; i < nbb_cells.length; ++i) {\n",
       "                    if (nbb_cells[i].input_prompt_number == nbb_cell_id) {\n",
       "                        if (nbb_cells[i].get_text() == nbb_unformatted_code) {\n",
       "                             nbb_cells[i].set_text(nbb_formatted_code);\n",
       "                        }\n",
       "                        break;\n",
       "                    }\n",
       "                }\n",
       "            }, 500);\n",
       "            "
      ],
      "text/plain": [
       "<IPython.core.display.Javascript object>"
      ]
     },
     "metadata": {},
     "output_type": "display_data"
    }
   ],
   "source": [
    "from timeit import default_timer as timer\n",
    "\n",
    "\n",
    "def time_model(model, X, y):\n",
    "\n",
    "    start = timer()\n",
    "    model.fit(X, y)\n",
    "    end = timer()\n",
    "\n",
    "    print(end - start)\n",
    "\n",
    "\n",
    "time_model(linear_regression(), X_train, y_train)\n",
    "time_model((regression_gram_schmidt()), X_train, y_train)\n",
    "time_model(LinearRegression(), X_train, y_train)"
   ]
  },
  {
   "cell_type": "code",
   "execution_count": null,
   "id": "hydraulic-liabilities",
   "metadata": {},
   "outputs": [],
   "source": [
    "import numpy as np\n",
    "\n",
    "class linear_regression:\n",
    "    \"\"\"\n",
    "    Builds OLS models, with option to include a ridge penalty\n",
    "    \n",
    "    ----------------------------------------------------------\n",
    "    add_bias:\n",
    "        Adds a bias vector of ones to the design matrix X\n",
    "        \n",
    "    fit:\n",
    "        calculates the model parameters; option to include a ridge penalisation\n",
    "        \n",
    "    predict:\n",
    "        predicts a real values output vector y\n",
    "        \n",
    "    \"\"\"\n",
    "    def __init__(self):\n",
    "        self.beta = None\n",
    "\n",
    "    def add_bias(self, X):\n",
    "        \"\"\"\n",
    "        \n",
    "        Concats a vector of ones to the design matrix\n",
    "        \n",
    "        X : numpy array of shape [n_samples, n_features]\n",
    "        \n",
    "        \"\"\"\n",
    "        bias_vec = np.ones(X.shape[0]).reshape(-1, 1)\n",
    "        return np.concatenate([X, bias_vec], axis=1)\n",
    "\n",
    "    def fit(self, X, y, lambda_=0, bias=True):\n",
    "        \n",
    "        \"\"\"\n",
    "        Fits the model to the data\n",
    "        \n",
    "        X : numpy array of shape [n_samples, n_features]\n",
    "        \n",
    "        y : numpy array of shape [n_samples]\n",
    "        \n",
    "        lambda : R\n",
    "            Ridge regression coefficient\n",
    "        \n",
    "        bias : binary\n",
    "            Choose whether or not to include a bias vector to the design matrix\n",
    "        \"\"\"\n",
    "        if bias == True:\n",
    "            X = self.add_bias(X)\n",
    "\n",
    "        penalisation = lambda_ * np.eye(X.shape[1])\n",
    "\n",
    "        beta = np.dot(np.dot(np.linalg.inv(np.dot(X.T, X) + penalisation), X.T), y)\n",
    "        self.beta = beta\n",
    "\n",
    "    def predict(self, X):\n",
    "        \"\"\"\n",
    "        X : numpy array of shape [n_samples, n_features]\n",
    "        \n",
    "        \"\"\"\n",
    "        assert self.beta is not None\n",
    "        if len(self.beta) == X.shape[1] + 1:\n",
    "            X = self.add_bias(X)\n",
    "        return np.dot(self.beta, X.T)\n"
   ]
  },
  {
   "cell_type": "code",
   "execution_count": 73,
   "id": "comfortable-abuse",
   "metadata": {},
   "outputs": [
    {
     "data": {
      "application/javascript": [
       "\n",
       "            setTimeout(function() {\n",
       "                var nbb_cell_id = 73;\n",
       "                var nbb_unformatted_code = \"class regression_gram_schmidt(linear_regression):\\n    \\\"\\\"\\\"\\n    Uses the QR decomposition (matrix form of gram schmidt procedure) to\\n    fit the beta coefficients for linear regression\\n    \\\"\\\"\\\"\\n    def __init__(self):\\n        super().__init__()\\n\\n    def fit(self, X, y, bias=True):\\n        \\\"\\\"\\\"\\n        Fits the model to the data\\n        \\n        X : numpy array of shape [n_samples, n_features]\\n        \\n        y : numpy array of shape [n_samples]\\n        \\n        bias : binary\\n            Choose whether or not to include a bias vector to the design matrix\\n        \\\"\\\"\\\"\\n        if bias == True:\\n            X = self.add_bias(X)\\n\\n        # QR decomp\\n        Q, R = np.linalg.qr(X)\\n        self.beta = np.dot(np.linalg.inv(R), np.dot(Q.T, y))\";\n",
       "                var nbb_formatted_code = \"class regression_gram_schmidt(linear_regression):\\n    \\\"\\\"\\\"\\n    Uses the QR decomposition (matrix form of gram schmidt procedure) to\\n    fit the beta coefficients for linear regression\\n    \\\"\\\"\\\"\\n\\n    def __init__(self):\\n        super().__init__()\\n\\n    def fit(self, X, y, bias=True):\\n        \\\"\\\"\\\"\\n        Fits the model to the data\\n\\n        X : numpy array of shape [n_samples, n_features]\\n\\n        y : numpy array of shape [n_samples]\\n\\n        bias : binary\\n            Choose whether or not to include a bias vector to the design matrix\\n        \\\"\\\"\\\"\\n        if bias == True:\\n            X = self.add_bias(X)\\n\\n        # QR decomp\\n        Q, R = np.linalg.qr(X)\\n        self.beta = np.dot(np.linalg.inv(R), np.dot(Q.T, y))\";\n",
       "                var nbb_cells = Jupyter.notebook.get_cells();\n",
       "                for (var i = 0; i < nbb_cells.length; ++i) {\n",
       "                    if (nbb_cells[i].input_prompt_number == nbb_cell_id) {\n",
       "                        if (nbb_cells[i].get_text() == nbb_unformatted_code) {\n",
       "                             nbb_cells[i].set_text(nbb_formatted_code);\n",
       "                        }\n",
       "                        break;\n",
       "                    }\n",
       "                }\n",
       "            }, 500);\n",
       "            "
      ],
      "text/plain": [
       "<IPython.core.display.Javascript object>"
      ]
     },
     "metadata": {},
     "output_type": "display_data"
    }
   ],
   "source": [
    "class regression_gram_schmidt(linear_regression):\n",
    "    \"\"\"\n",
    "    Uses the QR decomposition (matrix form of gram schmidt procedure) to\n",
    "    fit the beta coefficients for linear regression\n",
    "    \"\"\"\n",
    "\n",
    "    def __init__(self):\n",
    "        super().__init__()\n",
    "\n",
    "    def fit(self, X, y, bias=True):\n",
    "        \"\"\"\n",
    "        Fits the model to the data\n",
    "\n",
    "        X : numpy array of shape [n_samples, n_features]\n",
    "\n",
    "        y : numpy array of shape [n_samples]\n",
    "\n",
    "        bias : binary\n",
    "            Choose whether or not to include a bias vector to the design matrix\n",
    "        \"\"\"\n",
    "        if bias == True:\n",
    "            X = self.add_bias(X)\n",
    "\n",
    "        # QR decomp\n",
    "        Q, R = np.linalg.qr(X)\n",
    "        self.beta = np.dot(np.linalg.inv(R), np.dot(Q.T, y))"
   ]
  },
  {
   "cell_type": "code",
   "execution_count": 146,
   "id": "unlikely-quarterly",
   "metadata": {},
   "outputs": [
    {
     "ename": "NameError",
     "evalue": "name 'self' is not defined",
     "output_type": "error",
     "traceback": [
      "\u001b[1;31m---------------------------------------------------------------------------\u001b[0m",
      "\u001b[1;31mNameError\u001b[0m                                 Traceback (most recent call last)",
      "\u001b[1;32m<ipython-input-146-880d39a8881b>\u001b[0m in \u001b[0;36m<module>\u001b[1;34m\u001b[0m\n\u001b[1;32m----> 1\u001b[1;33m \u001b[1;32mclass\u001b[0m \u001b[0mleast_angle_regression\u001b[0m\u001b[1;33m:\u001b[0m\u001b[1;33m\u001b[0m\u001b[1;33m\u001b[0m\u001b[0m\n\u001b[0m\u001b[0;32m      2\u001b[0m     \u001b[1;32mdef\u001b[0m \u001b[0m__init__\u001b[0m\u001b[1;33m(\u001b[0m\u001b[0mself\u001b[0m\u001b[1;33m,\u001b[0m \u001b[0mstep\u001b[0m\u001b[1;33m=\u001b[0m\u001b[1;36m0.01\u001b[0m\u001b[1;33m)\u001b[0m\u001b[1;33m:\u001b[0m\u001b[1;33m\u001b[0m\u001b[1;33m\u001b[0m\u001b[0m\n\u001b[0;32m      3\u001b[0m         \u001b[0mself\u001b[0m\u001b[1;33m.\u001b[0m\u001b[0mstep\u001b[0m \u001b[1;33m=\u001b[0m \u001b[0mstep\u001b[0m\u001b[1;33m\u001b[0m\u001b[1;33m\u001b[0m\u001b[0m\n\u001b[0;32m      4\u001b[0m \u001b[1;33m\u001b[0m\u001b[0m\n\u001b[0;32m      5\u001b[0m         \u001b[0mself\u001b[0m\u001b[1;33m.\u001b[0m\u001b[0mresidual\u001b[0m \u001b[1;33m=\u001b[0m \u001b[1;32mNone\u001b[0m\u001b[1;33m\u001b[0m\u001b[1;33m\u001b[0m\u001b[0m\n",
      "\u001b[1;32m<ipython-input-146-880d39a8881b>\u001b[0m in \u001b[0;36mleast_angle_regression\u001b[1;34m()\u001b[0m\n\u001b[0;32m     15\u001b[0m             )\n\u001b[0;32m     16\u001b[0m \u001b[1;33m\u001b[0m\u001b[0m\n\u001b[1;32m---> 17\u001b[1;33m     \u001b[1;32mdef\u001b[0m \u001b[0mmove_coef_toward_ls\u001b[0m\u001b[1;33m(\u001b[0m\u001b[0mself\u001b[0m\u001b[1;33m,\u001b[0m \u001b[0mj\u001b[0m\u001b[1;33m,\u001b[0m \u001b[0mstep\u001b[0m \u001b[1;33m=\u001b[0m \u001b[0mself\u001b[0m\u001b[1;33m.\u001b[0m\u001b[0mstep\u001b[0m\u001b[1;33m)\u001b[0m\u001b[1;33m:\u001b[0m\u001b[1;33m\u001b[0m\u001b[1;33m\u001b[0m\u001b[0m\n\u001b[0m\u001b[0;32m     18\u001b[0m \u001b[1;33m\u001b[0m\u001b[0m\n\u001b[0;32m     19\u001b[0m         \u001b[1;32mreturn\u001b[0m\u001b[1;33m\u001b[0m\u001b[1;33m\u001b[0m\u001b[0m\n",
      "\u001b[1;31mNameError\u001b[0m: name 'self' is not defined"
     ]
    },
    {
     "data": {
      "application/javascript": [
       "\n",
       "            setTimeout(function() {\n",
       "                var nbb_cell_id = 146;\n",
       "                var nbb_unformatted_code = \"class least_angle_regression:\\n    def __init__(self, step=0.01):\\n        self.step = step\\n        \\n        self.residual = None\\n        self.beta = None\\n        self.active_set = []\\n        self.corrcoefs = None\\n        \\n    def initialise(self, X, y):\\n        self.residual = y - np.mean(y)\\n        self.beta = np.zeros(X.shape[1])\\n        self.corrcoefs = np.abs(\\n                np.corrcoef(np.concatenate([X, y.reshape(-1, 1)], axis=1).T)[:-1, -1]\\n            )\\n        \\n    def move_coef_toward_ls(self, j, step = self.step):\\n        \\n        return\\n\\n    def update_corr(self):\\n        j = np.argmax(self.corrcoefs)\\n        self.corrcoefs[j] = 0\\n        return j\\n        \\n    def fit(self, X, y):\\n        self.initialise(X, y)\\n\\n        while True:\\n            j = self.update_corr(X)\\n            self.active_set.append(X[:, j])\\n            self.beta[j] = np.dot(X[:,j], self.residual)\\n\\n            # move beta towards ls coeff\\n            while True:\\n                # check for competitor\\n                # update beta\\n                self.move_coef_towar_ls(j)\\n            return\\n\\n\\nlar = least_angle_regression()\\nlar.fit(X_train, y_train)\";\n",
       "                var nbb_formatted_code = \"class least_angle_regression:\\n    def __init__(self, step=0.01):\\n        self.step = step\\n\\n        self.residual = None\\n        self.beta = None\\n        self.active_set = []\\n        self.corrcoefs = None\\n\\n    def initialise(self, X, y):\\n        self.residual = y - np.mean(y)\\n        self.beta = np.zeros(X.shape[1])\\n        self.corrcoefs = np.abs(\\n            np.corrcoef(np.concatenate([X, y.reshape(-1, 1)], axis=1).T)[:-1, -1]\\n        )\\n\\n    def move_coef_toward_ls(self, j, step=self.step):\\n\\n        return\\n\\n    def update_corr(self):\\n        j = np.argmax(self.corrcoefs)\\n        self.corrcoefs[j] = 0\\n        return j\\n\\n    def fit(self, X, y):\\n        self.initialise(X, y)\\n\\n        while True:\\n            j = self.update_corr(X)\\n            self.active_set.append(X[:, j])\\n            self.beta[j] = np.dot(X[:, j], self.residual)\\n\\n            # move beta towards ls coeff\\n            while True:\\n                # check for competitor\\n                # update beta\\n                self.move_coef_towar_ls(j)\\n            return\\n\\n\\nlar = least_angle_regression()\\nlar.fit(X_train, y_train)\";\n",
       "                var nbb_cells = Jupyter.notebook.get_cells();\n",
       "                for (var i = 0; i < nbb_cells.length; ++i) {\n",
       "                    if (nbb_cells[i].input_prompt_number == nbb_cell_id) {\n",
       "                        if (nbb_cells[i].get_text() == nbb_unformatted_code) {\n",
       "                             nbb_cells[i].set_text(nbb_formatted_code);\n",
       "                        }\n",
       "                        break;\n",
       "                    }\n",
       "                }\n",
       "            }, 500);\n",
       "            "
      ],
      "text/plain": [
       "<IPython.core.display.Javascript object>"
      ]
     },
     "metadata": {},
     "output_type": "display_data"
    }
   ],
   "source": [
    "class least_angle_regression:\n",
    "    def __init__(self, step=0.01):\n",
    "        self.step = step\n",
    "        \n",
    "        self.residual = None\n",
    "        self.beta = None\n",
    "        self.active_set = []\n",
    "        self.corrcoefs = None\n",
    "        \n",
    "    def initialise(self, X, y):\n",
    "        self.residual = y - np.mean(y)\n",
    "        self.beta = np.zeros(X.shape[1])\n",
    "        self.corrcoefs = np.abs(\n",
    "                np.corrcoef(np.concatenate([X, y.reshape(-1, 1)], axis=1).T)[:-1, -1]\n",
    "            )\n",
    "        \n",
    "    def move_coef_toward_ls(self, j):\n",
    "        self.beta[j] \n",
    "        \n",
    "\n",
    "    def update_corr(self):\n",
    "        j = np.argmax(self.corrcoefs)\n",
    "        self.corrcoefs[j] = 0\n",
    "        return j\n",
    "        \n",
    "    def fit(self, X, y):\n",
    "        self.initialise(X, y)\n",
    "\n",
    "        while True:\n",
    "            j = self.update_corr(X)\n",
    "            self.active_set.append(X[:, j])\n",
    "            self.beta[j] = np.dot(X[:,j], self.residual)\n",
    "\n",
    "            # move beta towards ls coeff\n",
    "            while True:\n",
    "                # check for competitor\n",
    "                # update beta\n",
    "                self.move_coef_towar_ls(j)\n",
    "            return\n",
    "\n",
    "\n",
    "lar = least_angle_regression()\n",
    "lar.fit(X_train, y_train)\n"
   ]
  },
  {
   "cell_type": "code",
   "execution_count": 133,
   "id": "round-carter",
   "metadata": {},
   "outputs": [
    {
     "data": {
      "text/plain": [
       "11"
      ]
     },
     "execution_count": 133,
     "metadata": {},
     "output_type": "execute_result"
    },
    {
     "data": {
      "application/javascript": [
       "\n",
       "            setTimeout(function() {\n",
       "                var nbb_cell_id = 133;\n",
       "                var nbb_unformatted_code = \"np.argmax(np.corrcoef(np.concatenate([X, y.reshape(-1, 1)], axis=1).T)[:-1, -1])\";\n",
       "                var nbb_formatted_code = \"np.argmax(np.corrcoef(np.concatenate([X, y.reshape(-1, 1)], axis=1).T)[:-1, -1])\";\n",
       "                var nbb_cells = Jupyter.notebook.get_cells();\n",
       "                for (var i = 0; i < nbb_cells.length; ++i) {\n",
       "                    if (nbb_cells[i].input_prompt_number == nbb_cell_id) {\n",
       "                        if (nbb_cells[i].get_text() == nbb_unformatted_code) {\n",
       "                             nbb_cells[i].set_text(nbb_formatted_code);\n",
       "                        }\n",
       "                        break;\n",
       "                    }\n",
       "                }\n",
       "            }, 500);\n",
       "            "
      ],
      "text/plain": [
       "<IPython.core.display.Javascript object>"
      ]
     },
     "metadata": {},
     "output_type": "display_data"
    }
   ],
   "source": []
  },
  {
   "cell_type": "code",
   "execution_count": 117,
   "id": "exempt-boating",
   "metadata": {},
   "outputs": [
    {
     "data": {
      "text/plain": [
       "(1000, 100)"
      ]
     },
     "execution_count": 117,
     "metadata": {},
     "output_type": "execute_result"
    },
    {
     "data": {
      "application/javascript": [
       "\n",
       "            setTimeout(function() {\n",
       "                var nbb_cell_id = 117;\n",
       "                var nbb_unformatted_code = \"X.shape\";\n",
       "                var nbb_formatted_code = \"X.shape\";\n",
       "                var nbb_cells = Jupyter.notebook.get_cells();\n",
       "                for (var i = 0; i < nbb_cells.length; ++i) {\n",
       "                    if (nbb_cells[i].input_prompt_number == nbb_cell_id) {\n",
       "                        if (nbb_cells[i].get_text() == nbb_unformatted_code) {\n",
       "                             nbb_cells[i].set_text(nbb_formatted_code);\n",
       "                        }\n",
       "                        break;\n",
       "                    }\n",
       "                }\n",
       "            }, 500);\n",
       "            "
      ],
      "text/plain": [
       "<IPython.core.display.Javascript object>"
      ]
     },
     "metadata": {},
     "output_type": "display_data"
    }
   ],
   "source": [
    "X.shape"
   ]
  },
  {
   "cell_type": "code",
   "execution_count": null,
   "id": "monetary-membrane",
   "metadata": {},
   "outputs": [],
   "source": []
  },
  {
   "cell_type": "code",
   "execution_count": null,
   "id": "mobile-witch",
   "metadata": {},
   "outputs": [],
   "source": []
  }
 ],
 "metadata": {
  "kernelspec": {
   "display_name": "Python 3",
   "language": "python",
   "name": "python3"
  },
  "language_info": {
   "codemirror_mode": {
    "name": "ipython",
    "version": 3
   },
   "file_extension": ".py",
   "mimetype": "text/x-python",
   "name": "python",
   "nbconvert_exporter": "python",
   "pygments_lexer": "ipython3",
   "version": "3.7.6"
  }
 },
 "nbformat": 4,
 "nbformat_minor": 5
}
